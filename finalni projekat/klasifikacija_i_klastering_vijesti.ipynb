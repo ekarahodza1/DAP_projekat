{
  "nbformat": 4,
  "nbformat_minor": 0,
  "metadata": {
    "colab": {
      "provenance": [],
      "toc_visible": true
    },
    "kernelspec": {
      "name": "python3",
      "display_name": "Python 3"
    },
    "language_info": {
      "name": "python"
    }
  },
  "cells": [
    {
      "cell_type": "markdown",
      "source": [
        "#Biblioteke"
      ],
      "metadata": {
        "id": "k4lQRQoH8IcU"
      }
    },
    {
      "cell_type": "code",
      "source": [
        "import pandas as pd\n",
        "import numpy as np\n",
        "from sklearn.model_selection import train_test_split\n",
        "from sklearn.svm import LinearSVC\n",
        "from sklearn.metrics import classification_report\n",
        "import pickle\n",
        "import pandas as pd\n",
        "from sklearn.feature_extraction.text import CountVectorizer\n",
        "from sklearn.metrics import accuracy_score,classification_report,confusion_matrix\n",
        "from sklearn.preprocessing import LabelEncoder\n",
        "from sklearn.utils import shuffle\n",
        "from keras.utils import pad_sequences\n",
        "from keras.utils import np_utils\n",
        "from keras.callbacks import EarlyStopping\n",
        "import re\n",
        "from nltk import tokenize\n",
        "import nltk\n",
        "from sklearn.cluster import KMeans\n",
        "from yellowbrick.cluster import KElbowVisualizer\n",
        "from sklearn.feature_extraction.text import TfidfVectorizer\n",
        "nltk.download('punkt')"
      ],
      "metadata": {
        "id": "LvrmuzIn7nUo",
        "colab": {
          "base_uri": "https://localhost:8080/"
        },
        "outputId": "d1dae548-7bfc-4be8-baeb-d4c0a8bdadcb"
      },
      "execution_count": null,
      "outputs": [
        {
          "output_type": "stream",
          "name": "stderr",
          "text": [
            "[nltk_data] Downloading package punkt to /root/nltk_data...\n",
            "[nltk_data]   Package punkt is already up-to-date!\n"
          ]
        },
        {
          "output_type": "execute_result",
          "data": {
            "text/plain": [
              "True"
            ]
          },
          "metadata": {},
          "execution_count": 75
        }
      ]
    },
    {
      "cell_type": "markdown",
      "source": [
        "# Importovanje podataka"
      ],
      "metadata": {
        "id": "aqKihyzN7wAn"
      }
    },
    {
      "cell_type": "code",
      "source": [
        "df=pd.read_csv('prediction_vijesti.csv',sep=',',header=None)\n",
        "df.columns=['vijest','kategorija']\n",
        "df.drop(index=df.index[0], axis=0, inplace=True)\n",
        "df.head()"
      ],
      "metadata": {
        "id": "vXhO7H6Z7vMA",
        "colab": {
          "base_uri": "https://localhost:8080/",
          "height": 206
        },
        "outputId": "b6e15dcb-8b57-4c6b-d3be-a090ef620898"
      },
      "execution_count": null,
      "outputs": [
        {
          "output_type": "execute_result",
          "data": {
            "text/plain": [
              "                                              vijest kategorija\n",
              "1   'Dva olovna sarkofaga otkrivena su u katedral...          2\n",
              "2   'Američka svemirska agencija NASA saopćila je...          4\n",
              "3   'Evropska komisija je predložila reformu cari...          3\n",
              "4   'Administracija američkog predsjednika Joseph...          4\n",
              "5   'Generalna direktorica Kliničkog centra Unive...          1"
            ],
            "text/html": [
              "\n",
              "  <div id=\"df-b9a11435-044f-4c14-bf33-751ab1eca635\">\n",
              "    <div class=\"colab-df-container\">\n",
              "      <div>\n",
              "<style scoped>\n",
              "    .dataframe tbody tr th:only-of-type {\n",
              "        vertical-align: middle;\n",
              "    }\n",
              "\n",
              "    .dataframe tbody tr th {\n",
              "        vertical-align: top;\n",
              "    }\n",
              "\n",
              "    .dataframe thead th {\n",
              "        text-align: right;\n",
              "    }\n",
              "</style>\n",
              "<table border=\"1\" class=\"dataframe\">\n",
              "  <thead>\n",
              "    <tr style=\"text-align: right;\">\n",
              "      <th></th>\n",
              "      <th>vijest</th>\n",
              "      <th>kategorija</th>\n",
              "    </tr>\n",
              "  </thead>\n",
              "  <tbody>\n",
              "    <tr>\n",
              "      <th>1</th>\n",
              "      <td>'Dva olovna sarkofaga otkrivena su u katedral...</td>\n",
              "      <td>2</td>\n",
              "    </tr>\n",
              "    <tr>\n",
              "      <th>2</th>\n",
              "      <td>'Američka svemirska agencija NASA saopćila je...</td>\n",
              "      <td>4</td>\n",
              "    </tr>\n",
              "    <tr>\n",
              "      <th>3</th>\n",
              "      <td>'Evropska komisija je predložila reformu cari...</td>\n",
              "      <td>3</td>\n",
              "    </tr>\n",
              "    <tr>\n",
              "      <th>4</th>\n",
              "      <td>'Administracija američkog predsjednika Joseph...</td>\n",
              "      <td>4</td>\n",
              "    </tr>\n",
              "    <tr>\n",
              "      <th>5</th>\n",
              "      <td>'Generalna direktorica Kliničkog centra Unive...</td>\n",
              "      <td>1</td>\n",
              "    </tr>\n",
              "  </tbody>\n",
              "</table>\n",
              "</div>\n",
              "      <button class=\"colab-df-convert\" onclick=\"convertToInteractive('df-b9a11435-044f-4c14-bf33-751ab1eca635')\"\n",
              "              title=\"Convert this dataframe to an interactive table.\"\n",
              "              style=\"display:none;\">\n",
              "        \n",
              "  <svg xmlns=\"http://www.w3.org/2000/svg\" height=\"24px\"viewBox=\"0 0 24 24\"\n",
              "       width=\"24px\">\n",
              "    <path d=\"M0 0h24v24H0V0z\" fill=\"none\"/>\n",
              "    <path d=\"M18.56 5.44l.94 2.06.94-2.06 2.06-.94-2.06-.94-.94-2.06-.94 2.06-2.06.94zm-11 1L8.5 8.5l.94-2.06 2.06-.94-2.06-.94L8.5 2.5l-.94 2.06-2.06.94zm10 10l.94 2.06.94-2.06 2.06-.94-2.06-.94-.94-2.06-.94 2.06-2.06.94z\"/><path d=\"M17.41 7.96l-1.37-1.37c-.4-.4-.92-.59-1.43-.59-.52 0-1.04.2-1.43.59L10.3 9.45l-7.72 7.72c-.78.78-.78 2.05 0 2.83L4 21.41c.39.39.9.59 1.41.59.51 0 1.02-.2 1.41-.59l7.78-7.78 2.81-2.81c.8-.78.8-2.07 0-2.86zM5.41 20L4 18.59l7.72-7.72 1.47 1.35L5.41 20z\"/>\n",
              "  </svg>\n",
              "      </button>\n",
              "      \n",
              "  <style>\n",
              "    .colab-df-container {\n",
              "      display:flex;\n",
              "      flex-wrap:wrap;\n",
              "      gap: 12px;\n",
              "    }\n",
              "\n",
              "    .colab-df-convert {\n",
              "      background-color: #E8F0FE;\n",
              "      border: none;\n",
              "      border-radius: 50%;\n",
              "      cursor: pointer;\n",
              "      display: none;\n",
              "      fill: #1967D2;\n",
              "      height: 32px;\n",
              "      padding: 0 0 0 0;\n",
              "      width: 32px;\n",
              "    }\n",
              "\n",
              "    .colab-df-convert:hover {\n",
              "      background-color: #E2EBFA;\n",
              "      box-shadow: 0px 1px 2px rgba(60, 64, 67, 0.3), 0px 1px 3px 1px rgba(60, 64, 67, 0.15);\n",
              "      fill: #174EA6;\n",
              "    }\n",
              "\n",
              "    [theme=dark] .colab-df-convert {\n",
              "      background-color: #3B4455;\n",
              "      fill: #D2E3FC;\n",
              "    }\n",
              "\n",
              "    [theme=dark] .colab-df-convert:hover {\n",
              "      background-color: #434B5C;\n",
              "      box-shadow: 0px 1px 3px 1px rgba(0, 0, 0, 0.15);\n",
              "      filter: drop-shadow(0px 1px 2px rgba(0, 0, 0, 0.3));\n",
              "      fill: #FFFFFF;\n",
              "    }\n",
              "  </style>\n",
              "\n",
              "      <script>\n",
              "        const buttonEl =\n",
              "          document.querySelector('#df-b9a11435-044f-4c14-bf33-751ab1eca635 button.colab-df-convert');\n",
              "        buttonEl.style.display =\n",
              "          google.colab.kernel.accessAllowed ? 'block' : 'none';\n",
              "\n",
              "        async function convertToInteractive(key) {\n",
              "          const element = document.querySelector('#df-b9a11435-044f-4c14-bf33-751ab1eca635');\n",
              "          const dataTable =\n",
              "            await google.colab.kernel.invokeFunction('convertToInteractive',\n",
              "                                                     [key], {});\n",
              "          if (!dataTable) return;\n",
              "\n",
              "          const docLinkHtml = 'Like what you see? Visit the ' +\n",
              "            '<a target=\"_blank\" href=https://colab.research.google.com/notebooks/data_table.ipynb>data table notebook</a>'\n",
              "            + ' to learn more about interactive tables.';\n",
              "          element.innerHTML = '';\n",
              "          dataTable['output_type'] = 'display_data';\n",
              "          await google.colab.output.renderOutput(dataTable, element);\n",
              "          const docLink = document.createElement('div');\n",
              "          docLink.innerHTML = docLinkHtml;\n",
              "          element.appendChild(docLink);\n",
              "        }\n",
              "      </script>\n",
              "    </div>\n",
              "  </div>\n",
              "  "
            ]
          },
          "metadata": {},
          "execution_count": 2
        }
      ]
    },
    {
      "cell_type": "markdown",
      "source": [
        "#Preprocesiranje"
      ],
      "metadata": {
        "id": "Ip0eRh8t8zNN"
      }
    },
    {
      "cell_type": "code",
      "source": [
        "samoglasnici = ['a', 'i', 'e', 'o', 'u']\n",
        "suglasnici = ['b', 'c', 'č', 'ć', 'd', 'đ', 'dž', 'f', 'g', 'h', 'j', 'k', 'l', 'lj', 'm', 'n', 'nj', 'p', 'r', 's', 'š', 't', 'v', 'z', 'ž']\n",
        "\n",
        "def stem(rijec):\n",
        "  rijec = rijec.lower()\n",
        "  duzina = len(rijec)\n",
        "\n",
        "  #brojevi - osnovni\n",
        "  if rijec.endswith(('jedan', 'dva', 'tri', 'cetiri', 'pet', 'sest', 'sedam', 'osam', 'devet', 'deset')) :\n",
        "    return rijec\n",
        "\n",
        "  #prilozi koji imaju 'nastavke'\n",
        "  if rijec in ['daleko', 'teško', 'namjerno', 'mnogo', 'blizu', 'dolje', 'donekle', 'dotle', 'gore', 'gdje', 'odavdje', 'ovdje', 'ondje', 'tamo', 'ovamo', 'onamo',\n",
        "               'kuda', 'kamo', 'naprijed', 'natrag', 'ikamo', 'nekamo', 'podalje', 'dalje', 'bliže', 'ponegdje', 'pozadi', 'sprijeda', 'straga', 'tu', 'vani', 'unutra',\n",
        "               'sutra', 'kada', 'tada', 'ikada', 'odavno', 'odiskona', 'prije', 'maloprije', 'nekada', 'nikada', 'lani', 'preklani', 'brzo', 'sporo', 'kako', 'kojekako',\n",
        "               'ovako', 'tako', 'nekako', 'nikako', 'svakojako', 'stoga', 'namjerno', 'milo', 'ovoliko', 'oniliko', 'premalo', 'premnogo', 'previše', 'više',\n",
        "               'vrlo', 'malo', 'brže', 'dosta', 'puno', 'svuda', 'jednom', 'dvaput', 'triput', 'baš', 'među', 'samo', 'uskoro', 'tokom', 'nekoliko', 'među', 'između',\n",
        "               'dakle'] :\n",
        "               return rijec\n",
        "\n",
        "  #prijedlozi:\n",
        "  if rijec in ['poslije', 'u', 'na', 'iza', 'sa', 's', 'po', 'za', 'kroz', 'od', 'preko', 'prije', 'radi' ] :\n",
        "    return rijec\n",
        "\n",
        "  #glagoli svedeni na 3. lice jednine srednjeg roda jer infinitiv često ima drugačiji oblik (a radi lakšeg raspoznavanja)\n",
        "  #proizvela, proizveo -> proizvelo\n",
        "  #napisao, napisala -> napisalo\n",
        "\n",
        "  #glagoli - 3. lice jednine srednjeg roda - proizv-elo, urad-ilo, opr-alo\n",
        "  if duzina > 4 and rijec[-3] in samoglasnici and rijec[-2:] == 'lo':\n",
        "    return rijec\n",
        "\n",
        "  #glagoli - 3. lice jednine muškog roda - proizv-eo, urad-io, opr-ao\n",
        "  if duzina > 3 and rijec[-2] in samoglasnici and rijec[-1] == 'o':\n",
        "    rijec = rijec[:-1] + \"lo\"\n",
        "    return rijec\n",
        "\n",
        "  #glagoli - 3. lice jednine ženskog roda - proizv-ela, urad-ila, opr-ala, napis-ala\n",
        "  #glagoli - 3. lice množine ženskog roda - proizv-ele, urad-ile, opr-ale, napis-ale\n",
        "  #glagoli - 3. lice množine muškog i srednjeg roda - proizv-ela, urad-ili, opr-ali, napis-ali\n",
        "  if duzina > 4 and rijec[-3] in samoglasnici and (rijec[-2:] in ['la', 'le', 'li']):\n",
        "    rijec = rijec[:-2] + \"lo\"\n",
        "    return rijec\n",
        " \n",
        "\n",
        "  #imenice i brojevi - padezi\n",
        "  #redoslijed ispitivanja bitan\n",
        "\n",
        "  #americkim, drzavnim, poslovnim, pješačkih, poslovnih\n",
        "  if(duzina > 4 and (rijec[-2:] == \"im\" or rijec[-2:] == \"ih\" or rijec[-2:] == \"og\")):\n",
        "    rijec = rijec[:-2]\n",
        "\n",
        "  #nastavak 'ima'\n",
        "  #imenice muškog ili ženskog roda čiji dativ, instrumental ili lokativ množine završava na -ima - jelen-ima, momc-ima, televizor-ima, ljud-ima, kćer-ima\n",
        "  elif(duzina > 4 and  rijec[-4] in suglasnici and rijec[-3:] == 'ima') :\n",
        "    rijec = rijec[:-3]\n",
        "    duzina = len(rijec)\n",
        "\n",
        "    #umetak ev - panj-ev-ima, put-ev-ima\n",
        "    if(duzina > 4 and rijec[-2:] == 'ev') :\n",
        "      rijec = rijec[:-2]\n",
        "\n",
        "    #umetak ov - rad-ov-ima, tip-ov-ima\n",
        "    elif(duzina > 4 and rijec[-2:] == 'ov') :\n",
        "      rijec = rijec[:-2]\n",
        "\n",
        "\n",
        "  #nastavak 'ama'\n",
        "  #imenice ženskog roda čiji dativ, instrumental ili lokativ množine završava na -ama - žen-ama, pilan-ama\n",
        "  elif(duzina > 4 and rijec[-4] in suglasnici and rijec[-3:] == 'ama') :\n",
        "    rijec = rijec[:-3]\n",
        "\n",
        "  #nastavak 'iju'\n",
        "  #imenice koje u genitivu imaju nastavak -iju -prst-iju, gost-iju\n",
        "  elif(duzina > 4 and rijec[-4] in suglasnici and rijec[-3:] == 'iju') :\n",
        "    rijec = rijec[:-3]\n",
        "\n",
        "\n",
        "  #nastavak 'om'\n",
        "  #imenice muškog roda čiji instrumental jednine završava na -om - jelen-om, momk-om, televizor-om, pacov-om\n",
        "  elif(duzina > 3 and rijec[-3] in suglasnici and rijec[-2:] == 'om') :\n",
        "    rijec = rijec[:-2]\n",
        "\n",
        "  #nastavak 'em'\n",
        "  #imenice muškog roda čiji instrumental jednine završava na -em - čitaoc-em\n",
        "  elif(duzina > 3 and rijec[-3] in suglasnici and rijec[-2:] == 'em') :\n",
        "    rijec = rijec[:-2]\n",
        "    \n",
        "\n",
        "  #nastavak 'a'\n",
        "  #imenice muškog roda čiji genitiv (ili akuzativ) jednine završava na -a - slikar-a, grad-a, prostor-a, uspjeh-a, stol-a, kompjuter-a\n",
        "  #imenice ženskog roda u nominativu jednine - djevojk-a, učiteljic-a, sreć-a, slog-a\n",
        "  elif(duzina > 3 and rijec[-2] in suglasnici and rijec[-1] == 'a') :\n",
        "    rijec = rijec[:-1]\n",
        "    duzina = len(rijec)\n",
        "\n",
        "    #umetak ev - panj-ev-a, put-ev-a\n",
        "    if(duzina > 4 and rijec[-2:] == 'ev') :\n",
        "      rijec = rijec[:-2]\n",
        "\n",
        "    #umetak ov - rad-ov-a, tip-ov-a\n",
        "    elif(duzina > 4 and rijec[-2:] == 'ov') :\n",
        "      rijec = rijec[:-2]\n",
        "\n",
        "  #nastavak 'e'\n",
        "  #imenice muškog roda čiji genitiv (ili vokativ) jednine završava na -e - neznalic-e, kadij-e, arhitekt-e, Alij-e (jelen-e)\n",
        "  #imenice ženskog roda čiji genitiv jednine završava na -e - Bosn-e, Fatim-e, učiteljic-e, vod-e\n",
        "  #imenice srednjeg roda u nominativu jednine - čekanj-e, cvijeć-e, koplj-e, lic-e, proljeć-e\n",
        "  elif(duzina > 3 and rijec[-2] in suglasnici and rijec[-1] == 'e') :\n",
        "    rijec = rijec[:-1]\n",
        "\n",
        "  #nastavak 'i'\n",
        "  #imenice ženskog roda čiji genitiv jednine završava na -i - mladost-i, radost-i, čast-i, večer-i\n",
        "  #imenice muškog roda čiji nominativ množine završava na -i - jelen-i, prozor-i, čistač-i, televizor-i\n",
        "  elif(duzina > 3 and rijec[-2] in suglasnici and rijec[-1] == 'i') :\n",
        "    rijec = rijec[:-1]\n",
        "    duzina = len(rijec)\n",
        "\n",
        "    #umetak ev - panj-ev-i, put-ev-i\n",
        "    if(duzina > 4 and rijec[-2:] == 'ev') :\n",
        "      rijec = rijec[:-2]\n",
        "\n",
        "    #umetak ov - rad-ov-i, tip-ov-i\n",
        "    elif(duzina > 4 and rijec[-2:] == 'ov') :\n",
        "      rijec = rijec[:-2]\n",
        "\n",
        "  #nastavak 'o'\n",
        "  #imenice srednjeg roda u nominativu jednine - sel-o, čud-o, pism-o, jezer-o, neb-o, ok-o\n",
        "  elif(duzina > 3 and rijec[-2] in suglasnici and rijec[-1] == 'o') :\n",
        "    rijec = rijec[:-1]\n",
        "\n",
        "  #nastavak 'u'\n",
        "  #imenice muškog roda čiji dativ jednine završava na -u - prozor-u, jelen-u, televizor-u, pitanj-u\n",
        "  elif(duzina > 3 and rijec[-2] in suglasnici and rijec[-1] == 'u') :\n",
        "    rijec = rijec[:-1]\n",
        "\n",
        "  #skim, škim, čkim nije izdvojeno jer riječi imaju različit tip tiječi samim tim i funkciju (imenica i pridjev)\n",
        "\n",
        "  return rijec"
      ],
      "metadata": {
        "id": "X_5UG6Kq_4RH"
      },
      "execution_count": null,
      "outputs": []
    },
    {
      "cell_type": "code",
      "source": [
        "my_file = open(\"stopwords-bos.txt\", \"r\")\n",
        "  \n",
        "data = my_file.read()\n",
        "  \n",
        "# replacing end of line('/n') with ' ' and\n",
        "# splitting the text it further when '.' is seen.\n",
        "data_into_list = data.replace('\\n', '. ').split(\".\")\n",
        "  \n",
        "print(data_into_list)\n",
        "stopwords = data_into_list\n",
        "my_file.close()"
      ],
      "metadata": {
        "id": "8mSD-A6790MV",
        "colab": {
          "base_uri": "https://localhost:8080/"
        },
        "outputId": "6d38710c-4af0-4e95-b932-96aecf010cf5"
      },
      "execution_count": null,
      "outputs": [
        {
          "output_type": "stream",
          "name": "stdout",
          "text": [
            "['a', ' ako', ' ali', ' bi', ' bih', ' bila', ' bili', ' bilo', ' bio', ' bismo', ' biste', ' biti', ' da', ' do', ' duž', ' ga', ' hoće', ' hoćemo', ' hoćete', ' hoćeš', ' hoću', ' i', ' iako', ' ih', ' ili', ' iz', ' ja', ' je', ' jedna', ' jedne', ' jedno', ' jer', ' jesam', ' jesi', ' jesmo', ' jest', ' jeste', ' jesu', ' joj', ' još', ' ju', ' kada', ' kako', ' kao', ' koja', ' koje', ' koji', ' kojima', ' koju', ' kroz', ' li', ' me', ' mene', ' meni', ' mi', ' mimo', ' moj', ' moja', ' moje', ' mu', ' na', ' nad', ' nakon', ' nam', ' nama', ' nas', ' naš', ' naša', ' naše', ' našeg', ' ne', ' nego', ' neka', ' neki', ' nekog', ' neku', ' nema', ' neko', ' neće', ' nećemo', ' nećete', ' nećeš', ' neću', ' nešto', ' ni', ' nije', ' nikoga', ' nikoje', ' nikoju', ' nisam', ' nisi', ' nismo', ' niste', ' nisu', ' njega', ' njegov', ' njegova', ' njegovo', ' njemu', ' njezin', ' njezina', ' njezino', ' njen', ' njena', ' njeno', ' njih', ' njihov', ' njihova', ' njihovo', ' njim', ' njima', ' njoj', ' nju', ' no', ' o', ' od', ' odmah', ' on', ' ona', ' oni', ' ono', ' ova', ' pa', ' pak', ' po', ' pod', ' pored', ' prije', ' s', ' sa', ' sam', ' samo', ' se', ' sebe', ' sebi', ' si', ' smo', ' ste', ' su', ' sve', ' svi', ' svog', ' svoj', ' svoja', ' svoje', ' svom', ' ta', ' tada', ' taj', ' tako', ' te', ' tebe', ' tebi', ' ti', ' to', ' toj', ' tome', ' tu', ' tvoj', ' tvoja', ' tvoje', ' u', ' uz', ' vam', ' vama', ' vas', ' vaš', ' vaša', ' vaše', ' već', ' vi', ' vrlo', ' za', ' zar', ' će', ' ćemo', ' ćete', ' ćeš', ' ću', ' što']\n"
          ]
        }
      ]
    },
    {
      "cell_type": "code",
      "source": [
        "def remove_stopwords(text, stopwords):\n",
        "  #print(text)\n",
        "  #textwords = text.split()\n",
        "  #print(textwords)\n",
        "  textwords = text\n",
        "  resultwords = [word for word in textwords if word.lower() not in stopwords]\n",
        "  #print(resultwords)\n",
        "\n",
        "  result = ' '.join(resultwords)\n",
        "  #print(result)\n",
        "  #print(stopwords)\n",
        "  return result"
      ],
      "metadata": {
        "id": "E7oufWRZ81b5"
      },
      "execution_count": null,
      "outputs": []
    },
    {
      "cell_type": "code",
      "source": [
        "def tokeniziraj(text):\n",
        "    \n",
        "    text = text.replace('\\\\n', '').replace('\\\\t', '') #.replace('(\\\\\\\\\\w+)+', '')\n",
        "    \n",
        "    text = re.sub(r'\\d+\\.', '', text) #remove 500., 4.4.\n",
        "    text = re.sub(r'[0-9]', '', text)\n",
        "    text = text.lower()\n",
        "\n",
        "    sentences = re.split(r'[.!?]+', text)\n",
        "    word_list = []\n",
        "\n",
        "    for i in range(len(sentences)):\n",
        "      index = sentences[i].find('izvor:')\n",
        "      if (index == -1):\n",
        "        sentences[i] = re.sub(r'[^\\w\\s]','', sentences[i])\n",
        "        words = sentences[i].strip().split()\n",
        "        word_list.extend(words)\n",
        "\n",
        "    return word_list"
      ],
      "metadata": {
        "id": "S7R0ev-Q_x5P"
      },
      "execution_count": null,
      "outputs": []
    },
    {
      "cell_type": "code",
      "source": [
        "def preprocesiraj(text, bez_stopriječi, stemming):\n",
        "  \n",
        "  \n",
        "  #segmentacija na rečenice\n",
        "  text = text.split(\"\\\\n\")\n",
        "\n",
        "  #tokenizacija sa dodatnim preprocesiranjem popu izbacivanja interpunkcije i sl\n",
        "  text_list = []\n",
        "  for sentence in text:\n",
        "    text_list = text_list + tokeniziraj(sentence)\n",
        "  \n",
        "  #stop riječi\n",
        "  if bez_stopriječi:\n",
        "    text_list = remove_stopwords(text_list, stopwords) \n",
        " \n",
        "  \n",
        "  if stemming:\n",
        "    text_list = text_list.split()\n",
        "    stem_text_list = ''\n",
        "    for word in text_list:\n",
        "      stem_text_list = stem_text_list + \" \" + stem(word)\n",
        "    text_list = stem_text_list\n",
        "\n",
        "  return text_list\n"
      ],
      "metadata": {
        "id": "p8ST1Jws_jgM"
      },
      "execution_count": null,
      "outputs": []
    },
    {
      "cell_type": "code",
      "source": [
        "df['vijest']=df['vijest'].apply(lambda x:preprocesiraj(x, True, True))"
      ],
      "metadata": {
        "id": "qCejkJfR-tb6"
      },
      "execution_count": null,
      "outputs": []
    },
    {
      "cell_type": "code",
      "source": [
        "df.head()"
      ],
      "metadata": {
        "colab": {
          "base_uri": "https://localhost:8080/",
          "height": 206
        },
        "id": "raXwsSYDLzOR",
        "outputId": "bc357bb3-0571-42e9-b75b-067957dfa5af"
      },
      "execution_count": null,
      "outputs": [
        {
          "output_type": "execute_result",
          "data": {
            "text/plain": [
              "                                              vijest kategorija\n",
              "1   dva olovn sarkofag otkriven su u katedralo no...          2\n",
              "2   američk svemirsk agencij nas saopćilo je da j...          4\n",
              "3   evropsk komisij je predložilo reform carinsk ...          3\n",
              "4   administracij američk predsjednik joseph bide...          4\n",
              "5   generaln direktoric kliničk centr univerzitet...          1"
            ],
            "text/html": [
              "\n",
              "  <div id=\"df-bbbe0c20-39fb-4ee4-a05c-28a62d1e89e0\">\n",
              "    <div class=\"colab-df-container\">\n",
              "      <div>\n",
              "<style scoped>\n",
              "    .dataframe tbody tr th:only-of-type {\n",
              "        vertical-align: middle;\n",
              "    }\n",
              "\n",
              "    .dataframe tbody tr th {\n",
              "        vertical-align: top;\n",
              "    }\n",
              "\n",
              "    .dataframe thead th {\n",
              "        text-align: right;\n",
              "    }\n",
              "</style>\n",
              "<table border=\"1\" class=\"dataframe\">\n",
              "  <thead>\n",
              "    <tr style=\"text-align: right;\">\n",
              "      <th></th>\n",
              "      <th>vijest</th>\n",
              "      <th>kategorija</th>\n",
              "    </tr>\n",
              "  </thead>\n",
              "  <tbody>\n",
              "    <tr>\n",
              "      <th>1</th>\n",
              "      <td>dva olovn sarkofag otkriven su u katedralo no...</td>\n",
              "      <td>2</td>\n",
              "    </tr>\n",
              "    <tr>\n",
              "      <th>2</th>\n",
              "      <td>američk svemirsk agencij nas saopćilo je da j...</td>\n",
              "      <td>4</td>\n",
              "    </tr>\n",
              "    <tr>\n",
              "      <th>3</th>\n",
              "      <td>evropsk komisij je predložilo reform carinsk ...</td>\n",
              "      <td>3</td>\n",
              "    </tr>\n",
              "    <tr>\n",
              "      <th>4</th>\n",
              "      <td>administracij američk predsjednik joseph bide...</td>\n",
              "      <td>4</td>\n",
              "    </tr>\n",
              "    <tr>\n",
              "      <th>5</th>\n",
              "      <td>generaln direktoric kliničk centr univerzitet...</td>\n",
              "      <td>1</td>\n",
              "    </tr>\n",
              "  </tbody>\n",
              "</table>\n",
              "</div>\n",
              "      <button class=\"colab-df-convert\" onclick=\"convertToInteractive('df-bbbe0c20-39fb-4ee4-a05c-28a62d1e89e0')\"\n",
              "              title=\"Convert this dataframe to an interactive table.\"\n",
              "              style=\"display:none;\">\n",
              "        \n",
              "  <svg xmlns=\"http://www.w3.org/2000/svg\" height=\"24px\"viewBox=\"0 0 24 24\"\n",
              "       width=\"24px\">\n",
              "    <path d=\"M0 0h24v24H0V0z\" fill=\"none\"/>\n",
              "    <path d=\"M18.56 5.44l.94 2.06.94-2.06 2.06-.94-2.06-.94-.94-2.06-.94 2.06-2.06.94zm-11 1L8.5 8.5l.94-2.06 2.06-.94-2.06-.94L8.5 2.5l-.94 2.06-2.06.94zm10 10l.94 2.06.94-2.06 2.06-.94-2.06-.94-.94-2.06-.94 2.06-2.06.94z\"/><path d=\"M17.41 7.96l-1.37-1.37c-.4-.4-.92-.59-1.43-.59-.52 0-1.04.2-1.43.59L10.3 9.45l-7.72 7.72c-.78.78-.78 2.05 0 2.83L4 21.41c.39.39.9.59 1.41.59.51 0 1.02-.2 1.41-.59l7.78-7.78 2.81-2.81c.8-.78.8-2.07 0-2.86zM5.41 20L4 18.59l7.72-7.72 1.47 1.35L5.41 20z\"/>\n",
              "  </svg>\n",
              "      </button>\n",
              "      \n",
              "  <style>\n",
              "    .colab-df-container {\n",
              "      display:flex;\n",
              "      flex-wrap:wrap;\n",
              "      gap: 12px;\n",
              "    }\n",
              "\n",
              "    .colab-df-convert {\n",
              "      background-color: #E8F0FE;\n",
              "      border: none;\n",
              "      border-radius: 50%;\n",
              "      cursor: pointer;\n",
              "      display: none;\n",
              "      fill: #1967D2;\n",
              "      height: 32px;\n",
              "      padding: 0 0 0 0;\n",
              "      width: 32px;\n",
              "    }\n",
              "\n",
              "    .colab-df-convert:hover {\n",
              "      background-color: #E2EBFA;\n",
              "      box-shadow: 0px 1px 2px rgba(60, 64, 67, 0.3), 0px 1px 3px 1px rgba(60, 64, 67, 0.15);\n",
              "      fill: #174EA6;\n",
              "    }\n",
              "\n",
              "    [theme=dark] .colab-df-convert {\n",
              "      background-color: #3B4455;\n",
              "      fill: #D2E3FC;\n",
              "    }\n",
              "\n",
              "    [theme=dark] .colab-df-convert:hover {\n",
              "      background-color: #434B5C;\n",
              "      box-shadow: 0px 1px 3px 1px rgba(0, 0, 0, 0.15);\n",
              "      filter: drop-shadow(0px 1px 2px rgba(0, 0, 0, 0.3));\n",
              "      fill: #FFFFFF;\n",
              "    }\n",
              "  </style>\n",
              "\n",
              "      <script>\n",
              "        const buttonEl =\n",
              "          document.querySelector('#df-bbbe0c20-39fb-4ee4-a05c-28a62d1e89e0 button.colab-df-convert');\n",
              "        buttonEl.style.display =\n",
              "          google.colab.kernel.accessAllowed ? 'block' : 'none';\n",
              "\n",
              "        async function convertToInteractive(key) {\n",
              "          const element = document.querySelector('#df-bbbe0c20-39fb-4ee4-a05c-28a62d1e89e0');\n",
              "          const dataTable =\n",
              "            await google.colab.kernel.invokeFunction('convertToInteractive',\n",
              "                                                     [key], {});\n",
              "          if (!dataTable) return;\n",
              "\n",
              "          const docLinkHtml = 'Like what you see? Visit the ' +\n",
              "            '<a target=\"_blank\" href=https://colab.research.google.com/notebooks/data_table.ipynb>data table notebook</a>'\n",
              "            + ' to learn more about interactive tables.';\n",
              "          element.innerHTML = '';\n",
              "          dataTable['output_type'] = 'display_data';\n",
              "          await google.colab.output.renderOutput(dataTable, element);\n",
              "          const docLink = document.createElement('div');\n",
              "          docLink.innerHTML = docLinkHtml;\n",
              "          element.appendChild(docLink);\n",
              "        }\n",
              "      </script>\n",
              "    </div>\n",
              "  </div>\n",
              "  "
            ]
          },
          "metadata": {},
          "execution_count": 9
        }
      ]
    },
    {
      "cell_type": "code",
      "source": [
        "df.iloc[0,0]"
      ],
      "metadata": {
        "colab": {
          "base_uri": "https://localhost:8080/",
          "height": 178
        },
        "id": "Ke9186aqjB0a",
        "outputId": "cdd3bea8-99a8-4fe3-a19c-bd5d057bd449"
      },
      "execution_count": null,
      "outputs": [
        {
          "output_type": "execute_result",
          "data": {
            "text/plain": [
              "' dva olovn sarkofag otkriven su u katedralo notr dam u pariz koj se rekonstruir nakon razorn požar godin francusk arheoloz su potvrdilo da je riječ o izvanredn otkrić prenilo je tanjug pisanj britansk dnevnik guardian prv sarkofag sadrž posmrtn ostatk prvosveštenik koj je umr godin ali čovjek koj je sahranjen u drug sarkofag još uvijek nij identificiran naučnic ukazuj da možd nikada neć bit utvrđen identitet osob sahranjen u drug sarkofag ali na osnov procjen stručnjak riječ je o mlad bogat i privilegovan čovjek plemic i vitez koj je po svem sudeć živilo u stoljeć izvanredan naučn značaj grobnic su otkriven u dijel koj se koristilo kao skladišt za skulptur i fragment originaln krovn pokrivač katedralo iz stoljeć zakopan ispod pod u poprečn brod crkv koj je sazidan tako da razdvaj svetilišt od ostatk crkv sarkofaz su otkriven na mjest gdje je trebalo da bud postavljen skelo za podizanj nov tornj katedralo naučnic su uvjeren da je riječ o otkrić od izvanredn naučn značaj dodaj se da su artefakt u notr dam ranij uglavn otkrivan na ak centimetar ispod pod katedralo ali dva olovn sarkofag su otkriven na dubin od jedn metr'"
            ],
            "application/vnd.google.colaboratory.intrinsic+json": {
              "type": "string"
            }
          },
          "metadata": {},
          "execution_count": 10
        }
      ]
    },
    {
      "cell_type": "markdown",
      "source": [
        "#EMBEDDINGS"
      ],
      "metadata": {
        "id": "PkwpfA2nGb9O"
      }
    },
    {
      "cell_type": "markdown",
      "source": [
        "Korištenje CountVectorizer-a"
      ],
      "metadata": {
        "id": "mXC7jy1dDX39"
      }
    },
    {
      "cell_type": "code",
      "source": [
        "vijest_text = df['vijest'].tolist()\n",
        "\n",
        "vectorizer = CountVectorizer()\n",
        "\n",
        "vectorizer.fit(vijest_text)\n",
        "\n",
        "X_count = vectorizer.transform(vijest_text)"
      ],
      "metadata": {
        "id": "Viq112C7DbrG"
      },
      "execution_count": null,
      "outputs": []
    },
    {
      "cell_type": "code",
      "source": [
        "X_count.shape"
      ],
      "metadata": {
        "colab": {
          "base_uri": "https://localhost:8080/"
        },
        "id": "Dd-OzBEHU7jW",
        "outputId": "db5dcad6-4837-4648-fb5a-0996be4cbc32"
      },
      "execution_count": null,
      "outputs": [
        {
          "output_type": "execute_result",
          "data": {
            "text/plain": [
              "(500, 19162)"
            ]
          },
          "metadata": {},
          "execution_count": 12
        }
      ]
    },
    {
      "cell_type": "markdown",
      "source": [
        "Korištenje naših embeddinga"
      ],
      "metadata": {
        "id": "fH4uU6lSp6J6"
      }
    },
    {
      "cell_type": "code",
      "source": [
        "def embedding(word, model):\n",
        "  try:\n",
        "    return model.wv[word]\n",
        "  except:\n",
        "    return 0"
      ],
      "metadata": {
        "id": "dAn72H89D2he"
      },
      "execution_count": null,
      "outputs": []
    },
    {
      "cell_type": "code",
      "source": [
        "def primijeni_embeddings(vijest, model):\n",
        "  return [embedding(word, model) for word in vijest.split() if word.strip() != '']"
      ],
      "metadata": {
        "id": "mRo_Y1JTEBbr"
      },
      "execution_count": null,
      "outputs": []
    },
    {
      "cell_type": "markdown",
      "source": [
        "Korištenje našeg word2vec embeddinga za bosanski jezik"
      ],
      "metadata": {
        "id": "OK9mL30vBbJr"
      }
    },
    {
      "cell_type": "code",
      "source": [
        "with open('word2vec_model.pkl', 'rb') as f:\n",
        "    model1 = pickle.load(f)"
      ],
      "metadata": {
        "id": "RTVi6nPfF3GQ"
      },
      "execution_count": null,
      "outputs": []
    },
    {
      "cell_type": "markdown",
      "source": [
        "Average za doc embedding"
      ],
      "metadata": {
        "id": "meLmqEuGhbXn"
      }
    },
    {
      "cell_type": "code",
      "source": [
        "def create_e_document_embedding(document, model):\n",
        " \n",
        "    words = document.split()\n",
        "\n",
        "    word_embeddings = [model.wv[word] for word in words if word in model.wv]\n",
        "\n",
        "    if len(word_embeddings) > 0:\n",
        "        e_document_embedding = np.mean(word_embeddings, axis=0)\n",
        "        return e_document_embedding\n",
        "    else:\n",
        "        return None\n",
        "\n",
        "# Example usage\n",
        "document = \"dva olovn sarkofag otkriven\"\n",
        "e_document_embedding = create_e_document_embedding(document, model1)\n"
      ],
      "metadata": {
        "id": "NyjSH8tHLEkg"
      },
      "execution_count": null,
      "outputs": []
    },
    {
      "cell_type": "code",
      "source": [
        "e_document_embedding"
      ],
      "metadata": {
        "colab": {
          "base_uri": "https://localhost:8080/"
        },
        "id": "J0eYtLT7jf52",
        "outputId": "4997b104-3e5c-45dc-9a55-8ae9481d4d2d"
      },
      "execution_count": null,
      "outputs": [
        {
          "output_type": "execute_result",
          "data": {
            "text/plain": [
              "array([-0.2563055 ,  0.4289508 ,  0.13968325, -0.00567187, -0.08088234,\n",
              "       -0.53153604, -0.07222753,  0.6712473 , -0.31782824, -0.3947413 ,\n",
              "       -0.00895776, -0.73699784,  0.2125389 ,  0.22470176,  0.10303932,\n",
              "       -0.02500728,  0.4065431 , -0.68732864,  0.21216793, -0.9122593 ,\n",
              "        0.02473907, -0.10761615,  0.4413371 , -0.2624526 , -0.08880218,\n",
              "       -0.00385906, -0.12002441, -0.14038445, -0.10201816, -0.04170978,\n",
              "        0.3545941 , -0.126835  , -0.02580099, -0.4054303 , -0.3405647 ,\n",
              "        0.01246467,  0.54517835, -0.01095219,  0.0547645 , -0.07435878,\n",
              "       -0.07855097,  0.10011658, -0.03414258, -0.22590472,  0.25123808,\n",
              "       -0.37678325, -0.37836537, -0.10957455, -0.07296759,  0.20370527,\n",
              "        0.23450433, -0.11770424, -0.12544435,  0.0753583 ,  0.04574575,\n",
              "       -0.13959277,  0.2105022 , -0.10219141,  0.03999852,  0.3539399 ,\n",
              "       -0.10132361, -0.14637238,  0.08807174,  0.0704119 , -0.36593667,\n",
              "        0.2636588 ,  0.17397358,  0.09434251, -0.27900502, -0.03425438,\n",
              "       -0.23727906,  0.3179241 ,  0.24022782, -0.13028999,  0.3254403 ,\n",
              "        0.16084634, -0.14783233,  0.09909209, -0.3868842 , -0.16314693,\n",
              "       -0.12262177, -0.12438961, -0.14758825,  0.4779451 , -0.13900103,\n",
              "       -0.04860342,  0.19175239,  0.35239196,  0.47968355,  0.45205465,\n",
              "        0.51131225,  0.18891053, -0.16709284,  0.08017427,  0.6703172 ,\n",
              "        0.16598926,  0.3380042 , -0.17123137,  0.13619551, -0.19286631],\n",
              "      dtype=float32)"
            ]
          },
          "metadata": {},
          "execution_count": 18
        }
      ]
    },
    {
      "cell_type": "code",
      "source": [
        "tfidf_vectorizer = TfidfVectorizer()\n",
        "\n",
        "def create_e_document_weighted_embedding(document, model):\n",
        "    \n",
        "    words = document.split()\n",
        "\n",
        "    tfidf_scores = tfidf_vectorizer.fit_transform([document]).toarray()[0]\n",
        "\n",
        "    word_embeddings = []\n",
        "    weighted_scores = []\n",
        "\n",
        "    for word, score in zip(words, tfidf_scores):\n",
        "        if word in model.wv:\n",
        "            word_embedding = model.wv[word]\n",
        "            \n",
        "            word_embeddings.append(word_embedding)\n",
        "            weighted_scores.append(score)\n",
        "\n",
        "    if len(word_embeddings) > 0:\n",
        "        word_embeddings = np.array(word_embeddings)\n",
        "        weighted_scores = np.array(weighted_scores)\n",
        "\n",
        "        weighted_average = np.average(word_embeddings, axis=0, weights=weighted_scores)\n",
        "\n",
        "        return weighted_average\n",
        "    else:\n",
        "        return None\n",
        "\n",
        "\n",
        "document = \"dva olovn sarkofag otkriven\"\n",
        "e_document_embedding = create_e_document_weighted_embedding(document, model1)\n"
      ],
      "metadata": {
        "id": "Ail1acGX3fFq"
      },
      "execution_count": null,
      "outputs": []
    },
    {
      "cell_type": "code",
      "source": [
        "df['vijest'].head()"
      ],
      "metadata": {
        "colab": {
          "base_uri": "https://localhost:8080/"
        },
        "id": "W6VWud-MLsT_",
        "outputId": "9c02633a-ef9a-46cb-a6d6-5d2424a82e16"
      },
      "execution_count": null,
      "outputs": [
        {
          "output_type": "execute_result",
          "data": {
            "text/plain": [
              "1     dva olovn sarkofag otkriven su u katedralo no...\n",
              "2     američk svemirsk agencij nas saopćilo je da j...\n",
              "3     evropsk komisij je predložilo reform carinsk ...\n",
              "4     administracij američk predsjednik joseph bide...\n",
              "5     generaln direktoric kliničk centr univerzitet...\n",
              "Name: vijest, dtype: object"
            ]
          },
          "metadata": {},
          "execution_count": 20
        }
      ]
    },
    {
      "cell_type": "markdown",
      "source": [
        "*   word2vec_avg je embedding za dokument (vijest) napravljen računanjem prosjeka svih w2v embeddinga za pojedine riječi u dokumentu\n",
        "*   word2vec_weight_avg umjesto prosjeka korišten weighted average, prvo izračunat tfidf score za riječi u dokumentu\n"
      ],
      "metadata": {
        "id": "H-GxD6j_RURa"
      }
    },
    {
      "cell_type": "code",
      "source": [
        "#ovdje svaka rijec ima svoj embedding\n",
        "df['word2vec_avg']=df['vijest'].apply(lambda x:create_e_document_embedding(x, model1))\n",
        "df['word2vec_weight_avg']=df['vijest'].apply(lambda x:create_e_document_weighted_embedding(x, model1))\n",
        "\n",
        "df.head()"
      ],
      "metadata": {
        "colab": {
          "base_uri": "https://localhost:8080/",
          "height": 337
        },
        "id": "jA0frSXLkeQU",
        "outputId": "a7cd31eb-1b7f-4a97-8560-089451f4e229"
      },
      "execution_count": null,
      "outputs": [
        {
          "output_type": "execute_result",
          "data": {
            "text/plain": [
              "                                              vijest kategorija  \\\n",
              "1   dva olovn sarkofag otkriven su u katedralo no...          2   \n",
              "2   američk svemirsk agencij nas saopćilo je da j...          4   \n",
              "3   evropsk komisij je predložilo reform carinsk ...          3   \n",
              "4   administracij američk predsjednik joseph bide...          4   \n",
              "5   generaln direktoric kliničk centr univerzitet...          1   \n",
              "\n",
              "                                        word2vec_avg  \\\n",
              "1  [-0.34594575, 0.2839031, 0.17603719, 0.3962955...   \n",
              "2  [-0.38080397, 0.22650556, 0.15119454, 0.408468...   \n",
              "3  [-0.32226032, 0.21427296, 0.14981331, 0.364215...   \n",
              "4  [-0.42571414, 0.16877402, 0.1836608, 0.3385192...   \n",
              "5  [-0.3985443, 0.35517603, 0.28379977, 0.3238662...   \n",
              "\n",
              "                                 word2vec_weight_avg  \n",
              "1  [-0.3476191422114858, 0.24894839840098504, 0.1...  \n",
              "2  [-0.36843028626715124, 0.175907754461902, 0.13...  \n",
              "3  [-0.3436872317729629, 0.2293367771395281, 0.10...  \n",
              "4  [-0.4412821094911702, 0.16989303872241127, 0.1...  \n",
              "5  [-0.4764896186191194, 0.38053628077828555, 0.3...  "
            ],
            "text/html": [
              "\n",
              "  <div id=\"df-351f3554-1b39-40bf-af3c-f1fa1509e2f1\">\n",
              "    <div class=\"colab-df-container\">\n",
              "      <div>\n",
              "<style scoped>\n",
              "    .dataframe tbody tr th:only-of-type {\n",
              "        vertical-align: middle;\n",
              "    }\n",
              "\n",
              "    .dataframe tbody tr th {\n",
              "        vertical-align: top;\n",
              "    }\n",
              "\n",
              "    .dataframe thead th {\n",
              "        text-align: right;\n",
              "    }\n",
              "</style>\n",
              "<table border=\"1\" class=\"dataframe\">\n",
              "  <thead>\n",
              "    <tr style=\"text-align: right;\">\n",
              "      <th></th>\n",
              "      <th>vijest</th>\n",
              "      <th>kategorija</th>\n",
              "      <th>word2vec_avg</th>\n",
              "      <th>word2vec_weight_avg</th>\n",
              "    </tr>\n",
              "  </thead>\n",
              "  <tbody>\n",
              "    <tr>\n",
              "      <th>1</th>\n",
              "      <td>dva olovn sarkofag otkriven su u katedralo no...</td>\n",
              "      <td>2</td>\n",
              "      <td>[-0.34594575, 0.2839031, 0.17603719, 0.3962955...</td>\n",
              "      <td>[-0.3476191422114858, 0.24894839840098504, 0.1...</td>\n",
              "    </tr>\n",
              "    <tr>\n",
              "      <th>2</th>\n",
              "      <td>američk svemirsk agencij nas saopćilo je da j...</td>\n",
              "      <td>4</td>\n",
              "      <td>[-0.38080397, 0.22650556, 0.15119454, 0.408468...</td>\n",
              "      <td>[-0.36843028626715124, 0.175907754461902, 0.13...</td>\n",
              "    </tr>\n",
              "    <tr>\n",
              "      <th>3</th>\n",
              "      <td>evropsk komisij je predložilo reform carinsk ...</td>\n",
              "      <td>3</td>\n",
              "      <td>[-0.32226032, 0.21427296, 0.14981331, 0.364215...</td>\n",
              "      <td>[-0.3436872317729629, 0.2293367771395281, 0.10...</td>\n",
              "    </tr>\n",
              "    <tr>\n",
              "      <th>4</th>\n",
              "      <td>administracij američk predsjednik joseph bide...</td>\n",
              "      <td>4</td>\n",
              "      <td>[-0.42571414, 0.16877402, 0.1836608, 0.3385192...</td>\n",
              "      <td>[-0.4412821094911702, 0.16989303872241127, 0.1...</td>\n",
              "    </tr>\n",
              "    <tr>\n",
              "      <th>5</th>\n",
              "      <td>generaln direktoric kliničk centr univerzitet...</td>\n",
              "      <td>1</td>\n",
              "      <td>[-0.3985443, 0.35517603, 0.28379977, 0.3238662...</td>\n",
              "      <td>[-0.4764896186191194, 0.38053628077828555, 0.3...</td>\n",
              "    </tr>\n",
              "  </tbody>\n",
              "</table>\n",
              "</div>\n",
              "      <button class=\"colab-df-convert\" onclick=\"convertToInteractive('df-351f3554-1b39-40bf-af3c-f1fa1509e2f1')\"\n",
              "              title=\"Convert this dataframe to an interactive table.\"\n",
              "              style=\"display:none;\">\n",
              "        \n",
              "  <svg xmlns=\"http://www.w3.org/2000/svg\" height=\"24px\"viewBox=\"0 0 24 24\"\n",
              "       width=\"24px\">\n",
              "    <path d=\"M0 0h24v24H0V0z\" fill=\"none\"/>\n",
              "    <path d=\"M18.56 5.44l.94 2.06.94-2.06 2.06-.94-2.06-.94-.94-2.06-.94 2.06-2.06.94zm-11 1L8.5 8.5l.94-2.06 2.06-.94-2.06-.94L8.5 2.5l-.94 2.06-2.06.94zm10 10l.94 2.06.94-2.06 2.06-.94-2.06-.94-.94-2.06-.94 2.06-2.06.94z\"/><path d=\"M17.41 7.96l-1.37-1.37c-.4-.4-.92-.59-1.43-.59-.52 0-1.04.2-1.43.59L10.3 9.45l-7.72 7.72c-.78.78-.78 2.05 0 2.83L4 21.41c.39.39.9.59 1.41.59.51 0 1.02-.2 1.41-.59l7.78-7.78 2.81-2.81c.8-.78.8-2.07 0-2.86zM5.41 20L4 18.59l7.72-7.72 1.47 1.35L5.41 20z\"/>\n",
              "  </svg>\n",
              "      </button>\n",
              "      \n",
              "  <style>\n",
              "    .colab-df-container {\n",
              "      display:flex;\n",
              "      flex-wrap:wrap;\n",
              "      gap: 12px;\n",
              "    }\n",
              "\n",
              "    .colab-df-convert {\n",
              "      background-color: #E8F0FE;\n",
              "      border: none;\n",
              "      border-radius: 50%;\n",
              "      cursor: pointer;\n",
              "      display: none;\n",
              "      fill: #1967D2;\n",
              "      height: 32px;\n",
              "      padding: 0 0 0 0;\n",
              "      width: 32px;\n",
              "    }\n",
              "\n",
              "    .colab-df-convert:hover {\n",
              "      background-color: #E2EBFA;\n",
              "      box-shadow: 0px 1px 2px rgba(60, 64, 67, 0.3), 0px 1px 3px 1px rgba(60, 64, 67, 0.15);\n",
              "      fill: #174EA6;\n",
              "    }\n",
              "\n",
              "    [theme=dark] .colab-df-convert {\n",
              "      background-color: #3B4455;\n",
              "      fill: #D2E3FC;\n",
              "    }\n",
              "\n",
              "    [theme=dark] .colab-df-convert:hover {\n",
              "      background-color: #434B5C;\n",
              "      box-shadow: 0px 1px 3px 1px rgba(0, 0, 0, 0.15);\n",
              "      filter: drop-shadow(0px 1px 2px rgba(0, 0, 0, 0.3));\n",
              "      fill: #FFFFFF;\n",
              "    }\n",
              "  </style>\n",
              "\n",
              "      <script>\n",
              "        const buttonEl =\n",
              "          document.querySelector('#df-351f3554-1b39-40bf-af3c-f1fa1509e2f1 button.colab-df-convert');\n",
              "        buttonEl.style.display =\n",
              "          google.colab.kernel.accessAllowed ? 'block' : 'none';\n",
              "\n",
              "        async function convertToInteractive(key) {\n",
              "          const element = document.querySelector('#df-351f3554-1b39-40bf-af3c-f1fa1509e2f1');\n",
              "          const dataTable =\n",
              "            await google.colab.kernel.invokeFunction('convertToInteractive',\n",
              "                                                     [key], {});\n",
              "          if (!dataTable) return;\n",
              "\n",
              "          const docLinkHtml = 'Like what you see? Visit the ' +\n",
              "            '<a target=\"_blank\" href=https://colab.research.google.com/notebooks/data_table.ipynb>data table notebook</a>'\n",
              "            + ' to learn more about interactive tables.';\n",
              "          element.innerHTML = '';\n",
              "          dataTable['output_type'] = 'display_data';\n",
              "          await google.colab.output.renderOutput(dataTable, element);\n",
              "          const docLink = document.createElement('div');\n",
              "          docLink.innerHTML = docLinkHtml;\n",
              "          element.appendChild(docLink);\n",
              "        }\n",
              "      </script>\n",
              "    </div>\n",
              "  </div>\n",
              "  "
            ]
          },
          "metadata": {},
          "execution_count": 21
        }
      ]
    },
    {
      "cell_type": "code",
      "source": [
        "X=df['word2vec_avg'].to_numpy()\n",
        "X=X.reshape(-1,1)\n",
        "X.shape"
      ],
      "metadata": {
        "colab": {
          "base_uri": "https://localhost:8080/"
        },
        "id": "UUe9XfsfTEhd",
        "outputId": "4d573b92-1dd5-4813-8382-920bfc82f082"
      },
      "execution_count": null,
      "outputs": [
        {
          "output_type": "execute_result",
          "data": {
            "text/plain": [
              "(500, 1)"
            ]
          },
          "metadata": {},
          "execution_count": 22
        }
      ]
    },
    {
      "cell_type": "code",
      "source": [
        "X2=df['word2vec_weight_avg'].to_numpy()\n",
        "X2=X2.reshape(-1,1)\n",
        "X2.shape"
      ],
      "metadata": {
        "colab": {
          "base_uri": "https://localhost:8080/"
        },
        "id": "AnKq9IexPxFe",
        "outputId": "58834d97-d77c-454d-bc09-d6412a79784b"
      },
      "execution_count": null,
      "outputs": [
        {
          "output_type": "execute_result",
          "data": {
            "text/plain": [
              "(500, 1)"
            ]
          },
          "metadata": {},
          "execution_count": 24
        }
      ]
    },
    {
      "cell_type": "code",
      "source": [
        "X_w2v_avg=np.concatenate(np.concatenate(X,axis=0),axis=0).reshape(-1,100)\n",
        "X_w2v_avg.shape"
      ],
      "metadata": {
        "colab": {
          "base_uri": "https://localhost:8080/"
        },
        "id": "Z10Cds_QlNyM",
        "outputId": "3dd5a2d1-e008-4515-e8cc-650b82e61b5e"
      },
      "execution_count": null,
      "outputs": [
        {
          "output_type": "execute_result",
          "data": {
            "text/plain": [
              "(500, 100)"
            ]
          },
          "metadata": {},
          "execution_count": 25
        }
      ]
    },
    {
      "cell_type": "code",
      "source": [
        "X_w2v_weight_avg=np.concatenate(np.concatenate(X2,axis=0),axis=0).reshape(-1,100)\n",
        "X_w2v_weight_avg.shape"
      ],
      "metadata": {
        "colab": {
          "base_uri": "https://localhost:8080/"
        },
        "id": "OFHFV90uP2KI",
        "outputId": "9647c28b-4e16-4085-b66e-caf2c5ff5746"
      },
      "execution_count": null,
      "outputs": [
        {
          "output_type": "execute_result",
          "data": {
            "text/plain": [
              "(500, 100)"
            ]
          },
          "metadata": {},
          "execution_count": 26
        }
      ]
    },
    {
      "cell_type": "markdown",
      "source": [
        "Korištenje našeg FastText embeddinga za bosanski jezik"
      ],
      "metadata": {
        "id": "Nm5SIYjPByYU"
      }
    },
    {
      "cell_type": "code",
      "source": [
        "from google.colab import drive\n",
        "drive.mount('/content/drive', force_remount = True)"
      ],
      "metadata": {
        "colab": {
          "base_uri": "https://localhost:8080/"
        },
        "id": "PvSrZi-xJezp",
        "outputId": "096315e5-6802-4d57-9ff7-36cc7bbce14f"
      },
      "execution_count": null,
      "outputs": [
        {
          "output_type": "stream",
          "name": "stdout",
          "text": [
            "Mounted at /content/drive\n"
          ]
        }
      ]
    },
    {
      "cell_type": "code",
      "source": [
        "%cd /content/drive/My Drive/"
      ],
      "metadata": {
        "colab": {
          "base_uri": "https://localhost:8080/"
        },
        "id": "bt9eETQcYolR",
        "outputId": "cdebece6-2c39-476a-bea9-a9c6e852e562"
      },
      "execution_count": null,
      "outputs": [
        {
          "output_type": "stream",
          "name": "stdout",
          "text": [
            "/content/drive/My Drive\n"
          ]
        }
      ]
    },
    {
      "cell_type": "code",
      "source": [
        "with open('fasttext_model.pkl', 'rb') as f:\n",
        "    model2 = pickle.load(f)"
      ],
      "metadata": {
        "id": "Gl9UWTTLFc1e"
      },
      "execution_count": null,
      "outputs": []
    },
    {
      "cell_type": "code",
      "source": [
        "df['fasttext_avg']=df['vijest'].apply(lambda x:create_e_document_embedding(x, model2))\n",
        "df['fasttext_weight_avg']=df['vijest'].apply(lambda x:create_e_document_weighted_embedding(x, model2))\n",
        "df.head()"
      ],
      "metadata": {
        "id": "ZKY-7sCDFIVC",
        "colab": {
          "base_uri": "https://localhost:8080/",
          "height": 511
        },
        "outputId": "858d4434-1c94-4114-b409-ccac78033f7b"
      },
      "execution_count": null,
      "outputs": [
        {
          "output_type": "execute_result",
          "data": {
            "text/plain": [
              "                                              vijest kategorija  \\\n",
              "1   dva olovn sarkofag otkriven su u katedralo no...          2   \n",
              "2   američk svemirsk agencij nas saopćilo je da j...          4   \n",
              "3   evropsk komisij je predložilo reform carinsk ...          3   \n",
              "4   administracij američk predsjednik joseph bide...          4   \n",
              "5   generaln direktoric kliničk centr univerzitet...          1   \n",
              "\n",
              "                                        word2vec_avg  \\\n",
              "1  [-0.34594575, 0.2839031, 0.17603719, 0.3962955...   \n",
              "2  [-0.38080397, 0.22650556, 0.15119454, 0.408468...   \n",
              "3  [-0.32226032, 0.21427296, 0.14981331, 0.364215...   \n",
              "4  [-0.42571414, 0.16877402, 0.1836608, 0.3385192...   \n",
              "5  [-0.3985443, 0.35517603, 0.28379977, 0.3238662...   \n",
              "\n",
              "                                 word2vec_weight_avg  \\\n",
              "1  [-0.3476191422114858, 0.24894839840098504, 0.1...   \n",
              "2  [-0.36843028626715124, 0.175907754461902, 0.13...   \n",
              "3  [-0.3436872317729629, 0.2293367771395281, 0.10...   \n",
              "4  [-0.4412821094911702, 0.16989303872241127, 0.1...   \n",
              "5  [-0.4764896186191194, 0.38053628077828555, 0.3...   \n",
              "\n",
              "                                        fasttext_avg  \\\n",
              "1  [-0.19047846, 0.049747154, -0.1451849, -0.1318...   \n",
              "2  [-0.24016836, 0.056401964, -0.09147829, -0.161...   \n",
              "3  [-0.23297836, 0.012733971, -0.15380538, -0.161...   \n",
              "4  [-0.30245286, 0.006994489, -0.09531504, -0.193...   \n",
              "5  [-0.19063023, 0.112900995, -0.1254667, -0.1578...   \n",
              "\n",
              "                                 fasttext_weight_avg  \n",
              "1  [-0.17449348821733768, 0.06817948322460644, -0...  \n",
              "2  [-0.28371308767236775, 0.0554799237778331, -0....  \n",
              "3  [-0.20176888890814224, -0.0023879029905607293,...  \n",
              "4  [-0.2945003990632174, 0.030109189739771967, -0...  \n",
              "5  [-0.2045042071923879, 0.08948224389522294, -0....  "
            ],
            "text/html": [
              "\n",
              "  <div id=\"df-9a9af659-4e30-47fc-b0bb-4c0d898f88d4\">\n",
              "    <div class=\"colab-df-container\">\n",
              "      <div>\n",
              "<style scoped>\n",
              "    .dataframe tbody tr th:only-of-type {\n",
              "        vertical-align: middle;\n",
              "    }\n",
              "\n",
              "    .dataframe tbody tr th {\n",
              "        vertical-align: top;\n",
              "    }\n",
              "\n",
              "    .dataframe thead th {\n",
              "        text-align: right;\n",
              "    }\n",
              "</style>\n",
              "<table border=\"1\" class=\"dataframe\">\n",
              "  <thead>\n",
              "    <tr style=\"text-align: right;\">\n",
              "      <th></th>\n",
              "      <th>vijest</th>\n",
              "      <th>kategorija</th>\n",
              "      <th>word2vec_avg</th>\n",
              "      <th>word2vec_weight_avg</th>\n",
              "      <th>fasttext_avg</th>\n",
              "      <th>fasttext_weight_avg</th>\n",
              "    </tr>\n",
              "  </thead>\n",
              "  <tbody>\n",
              "    <tr>\n",
              "      <th>1</th>\n",
              "      <td>dva olovn sarkofag otkriven su u katedralo no...</td>\n",
              "      <td>2</td>\n",
              "      <td>[-0.34594575, 0.2839031, 0.17603719, 0.3962955...</td>\n",
              "      <td>[-0.3476191422114858, 0.24894839840098504, 0.1...</td>\n",
              "      <td>[-0.19047846, 0.049747154, -0.1451849, -0.1318...</td>\n",
              "      <td>[-0.17449348821733768, 0.06817948322460644, -0...</td>\n",
              "    </tr>\n",
              "    <tr>\n",
              "      <th>2</th>\n",
              "      <td>američk svemirsk agencij nas saopćilo je da j...</td>\n",
              "      <td>4</td>\n",
              "      <td>[-0.38080397, 0.22650556, 0.15119454, 0.408468...</td>\n",
              "      <td>[-0.36843028626715124, 0.175907754461902, 0.13...</td>\n",
              "      <td>[-0.24016836, 0.056401964, -0.09147829, -0.161...</td>\n",
              "      <td>[-0.28371308767236775, 0.0554799237778331, -0....</td>\n",
              "    </tr>\n",
              "    <tr>\n",
              "      <th>3</th>\n",
              "      <td>evropsk komisij je predložilo reform carinsk ...</td>\n",
              "      <td>3</td>\n",
              "      <td>[-0.32226032, 0.21427296, 0.14981331, 0.364215...</td>\n",
              "      <td>[-0.3436872317729629, 0.2293367771395281, 0.10...</td>\n",
              "      <td>[-0.23297836, 0.012733971, -0.15380538, -0.161...</td>\n",
              "      <td>[-0.20176888890814224, -0.0023879029905607293,...</td>\n",
              "    </tr>\n",
              "    <tr>\n",
              "      <th>4</th>\n",
              "      <td>administracij američk predsjednik joseph bide...</td>\n",
              "      <td>4</td>\n",
              "      <td>[-0.42571414, 0.16877402, 0.1836608, 0.3385192...</td>\n",
              "      <td>[-0.4412821094911702, 0.16989303872241127, 0.1...</td>\n",
              "      <td>[-0.30245286, 0.006994489, -0.09531504, -0.193...</td>\n",
              "      <td>[-0.2945003990632174, 0.030109189739771967, -0...</td>\n",
              "    </tr>\n",
              "    <tr>\n",
              "      <th>5</th>\n",
              "      <td>generaln direktoric kliničk centr univerzitet...</td>\n",
              "      <td>1</td>\n",
              "      <td>[-0.3985443, 0.35517603, 0.28379977, 0.3238662...</td>\n",
              "      <td>[-0.4764896186191194, 0.38053628077828555, 0.3...</td>\n",
              "      <td>[-0.19063023, 0.112900995, -0.1254667, -0.1578...</td>\n",
              "      <td>[-0.2045042071923879, 0.08948224389522294, -0....</td>\n",
              "    </tr>\n",
              "  </tbody>\n",
              "</table>\n",
              "</div>\n",
              "      <button class=\"colab-df-convert\" onclick=\"convertToInteractive('df-9a9af659-4e30-47fc-b0bb-4c0d898f88d4')\"\n",
              "              title=\"Convert this dataframe to an interactive table.\"\n",
              "              style=\"display:none;\">\n",
              "        \n",
              "  <svg xmlns=\"http://www.w3.org/2000/svg\" height=\"24px\"viewBox=\"0 0 24 24\"\n",
              "       width=\"24px\">\n",
              "    <path d=\"M0 0h24v24H0V0z\" fill=\"none\"/>\n",
              "    <path d=\"M18.56 5.44l.94 2.06.94-2.06 2.06-.94-2.06-.94-.94-2.06-.94 2.06-2.06.94zm-11 1L8.5 8.5l.94-2.06 2.06-.94-2.06-.94L8.5 2.5l-.94 2.06-2.06.94zm10 10l.94 2.06.94-2.06 2.06-.94-2.06-.94-.94-2.06-.94 2.06-2.06.94z\"/><path d=\"M17.41 7.96l-1.37-1.37c-.4-.4-.92-.59-1.43-.59-.52 0-1.04.2-1.43.59L10.3 9.45l-7.72 7.72c-.78.78-.78 2.05 0 2.83L4 21.41c.39.39.9.59 1.41.59.51 0 1.02-.2 1.41-.59l7.78-7.78 2.81-2.81c.8-.78.8-2.07 0-2.86zM5.41 20L4 18.59l7.72-7.72 1.47 1.35L5.41 20z\"/>\n",
              "  </svg>\n",
              "      </button>\n",
              "      \n",
              "  <style>\n",
              "    .colab-df-container {\n",
              "      display:flex;\n",
              "      flex-wrap:wrap;\n",
              "      gap: 12px;\n",
              "    }\n",
              "\n",
              "    .colab-df-convert {\n",
              "      background-color: #E8F0FE;\n",
              "      border: none;\n",
              "      border-radius: 50%;\n",
              "      cursor: pointer;\n",
              "      display: none;\n",
              "      fill: #1967D2;\n",
              "      height: 32px;\n",
              "      padding: 0 0 0 0;\n",
              "      width: 32px;\n",
              "    }\n",
              "\n",
              "    .colab-df-convert:hover {\n",
              "      background-color: #E2EBFA;\n",
              "      box-shadow: 0px 1px 2px rgba(60, 64, 67, 0.3), 0px 1px 3px 1px rgba(60, 64, 67, 0.15);\n",
              "      fill: #174EA6;\n",
              "    }\n",
              "\n",
              "    [theme=dark] .colab-df-convert {\n",
              "      background-color: #3B4455;\n",
              "      fill: #D2E3FC;\n",
              "    }\n",
              "\n",
              "    [theme=dark] .colab-df-convert:hover {\n",
              "      background-color: #434B5C;\n",
              "      box-shadow: 0px 1px 3px 1px rgba(0, 0, 0, 0.15);\n",
              "      filter: drop-shadow(0px 1px 2px rgba(0, 0, 0, 0.3));\n",
              "      fill: #FFFFFF;\n",
              "    }\n",
              "  </style>\n",
              "\n",
              "      <script>\n",
              "        const buttonEl =\n",
              "          document.querySelector('#df-9a9af659-4e30-47fc-b0bb-4c0d898f88d4 button.colab-df-convert');\n",
              "        buttonEl.style.display =\n",
              "          google.colab.kernel.accessAllowed ? 'block' : 'none';\n",
              "\n",
              "        async function convertToInteractive(key) {\n",
              "          const element = document.querySelector('#df-9a9af659-4e30-47fc-b0bb-4c0d898f88d4');\n",
              "          const dataTable =\n",
              "            await google.colab.kernel.invokeFunction('convertToInteractive',\n",
              "                                                     [key], {});\n",
              "          if (!dataTable) return;\n",
              "\n",
              "          const docLinkHtml = 'Like what you see? Visit the ' +\n",
              "            '<a target=\"_blank\" href=https://colab.research.google.com/notebooks/data_table.ipynb>data table notebook</a>'\n",
              "            + ' to learn more about interactive tables.';\n",
              "          element.innerHTML = '';\n",
              "          dataTable['output_type'] = 'display_data';\n",
              "          await google.colab.output.renderOutput(dataTable, element);\n",
              "          const docLink = document.createElement('div');\n",
              "          docLink.innerHTML = docLinkHtml;\n",
              "          element.appendChild(docLink);\n",
              "        }\n",
              "      </script>\n",
              "    </div>\n",
              "  </div>\n",
              "  "
            ]
          },
          "metadata": {},
          "execution_count": 31
        }
      ]
    },
    {
      "cell_type": "code",
      "source": [
        "X3=df['fasttext_avg'].to_numpy()\n",
        "X3=X3.reshape(-1,1)\n",
        "X3.shape"
      ],
      "metadata": {
        "colab": {
          "base_uri": "https://localhost:8080/"
        },
        "id": "ja7tJxy8cpFL",
        "outputId": "59c181d1-0b30-4897-abc8-542e15c26f30"
      },
      "execution_count": null,
      "outputs": [
        {
          "output_type": "execute_result",
          "data": {
            "text/plain": [
              "(500, 1)"
            ]
          },
          "metadata": {},
          "execution_count": 32
        }
      ]
    },
    {
      "cell_type": "code",
      "source": [
        "X_ft_avg=np.concatenate(np.concatenate(X3,axis=0),axis=0).reshape(-1,100)\n",
        "X_ft_avg.shape"
      ],
      "metadata": {
        "colab": {
          "base_uri": "https://localhost:8080/"
        },
        "id": "48BUt6JVcvor",
        "outputId": "a593bf48-adfc-4d7d-f4e3-9f3c5b828831"
      },
      "execution_count": null,
      "outputs": [
        {
          "output_type": "execute_result",
          "data": {
            "text/plain": [
              "(500, 100)"
            ]
          },
          "metadata": {},
          "execution_count": 33
        }
      ]
    },
    {
      "cell_type": "code",
      "source": [
        "X4=df['fasttext_weight_avg'].to_numpy()\n",
        "X4=X4.reshape(-1,1)\n",
        "X4.shape"
      ],
      "metadata": {
        "colab": {
          "base_uri": "https://localhost:8080/"
        },
        "id": "i6blhb2peWHW",
        "outputId": "9fcda54d-ca97-49fd-ddbf-0b89a9a2c50d"
      },
      "execution_count": null,
      "outputs": [
        {
          "output_type": "execute_result",
          "data": {
            "text/plain": [
              "(500, 1)"
            ]
          },
          "metadata": {},
          "execution_count": 34
        }
      ]
    },
    {
      "cell_type": "code",
      "source": [
        "X_ft_weighted_avg=np.concatenate(np.concatenate(X4,axis=0),axis=0).reshape(-1,100)\n",
        "X_ft_weighted_avg.shape"
      ],
      "metadata": {
        "colab": {
          "base_uri": "https://localhost:8080/"
        },
        "id": "x3f80haJedU-",
        "outputId": "24e4faaf-a488-49f6-8858-2d664cf19f4b"
      },
      "execution_count": null,
      "outputs": [
        {
          "output_type": "execute_result",
          "data": {
            "text/plain": [
              "(500, 100)"
            ]
          },
          "metadata": {},
          "execution_count": 35
        }
      ]
    },
    {
      "cell_type": "code",
      "source": [
        "df.head()"
      ],
      "metadata": {
        "colab": {
          "base_uri": "https://localhost:8080/",
          "height": 511
        },
        "id": "dRBSsP0taqe3",
        "outputId": "cdc45a71-1b2d-48e7-d111-ae828f9dd806"
      },
      "execution_count": null,
      "outputs": [
        {
          "output_type": "execute_result",
          "data": {
            "text/plain": [
              "                                              vijest kategorija  \\\n",
              "1   dva olovn sarkofag otkriven su u katedralo no...          2   \n",
              "2   američk svemirsk agencij nas saopćilo je da j...          4   \n",
              "3   evropsk komisij je predložilo reform carinsk ...          3   \n",
              "4   administracij američk predsjednik joseph bide...          4   \n",
              "5   generaln direktoric kliničk centr univerzitet...          1   \n",
              "\n",
              "                                        word2vec_avg  \\\n",
              "1  [-0.34594575, 0.2839031, 0.17603719, 0.3962955...   \n",
              "2  [-0.38080397, 0.22650556, 0.15119454, 0.408468...   \n",
              "3  [-0.32226032, 0.21427296, 0.14981331, 0.364215...   \n",
              "4  [-0.42571414, 0.16877402, 0.1836608, 0.3385192...   \n",
              "5  [-0.3985443, 0.35517603, 0.28379977, 0.3238662...   \n",
              "\n",
              "                                 word2vec_weight_avg  \\\n",
              "1  [-0.3476191422114858, 0.24894839840098504, 0.1...   \n",
              "2  [-0.36843028626715124, 0.175907754461902, 0.13...   \n",
              "3  [-0.3436872317729629, 0.2293367771395281, 0.10...   \n",
              "4  [-0.4412821094911702, 0.16989303872241127, 0.1...   \n",
              "5  [-0.4764896186191194, 0.38053628077828555, 0.3...   \n",
              "\n",
              "                                        fasttext_avg  \\\n",
              "1  [-0.19047846, 0.049747154, -0.1451849, -0.1318...   \n",
              "2  [-0.24016836, 0.056401964, -0.09147829, -0.161...   \n",
              "3  [-0.23297836, 0.012733971, -0.15380538, -0.161...   \n",
              "4  [-0.30245286, 0.006994489, -0.09531504, -0.193...   \n",
              "5  [-0.19063023, 0.112900995, -0.1254667, -0.1578...   \n",
              "\n",
              "                                 fasttext_weight_avg  \n",
              "1  [-0.17449348821733768, 0.06817948322460644, -0...  \n",
              "2  [-0.28371308767236775, 0.0554799237778331, -0....  \n",
              "3  [-0.20176888890814224, -0.0023879029905607293,...  \n",
              "4  [-0.2945003990632174, 0.030109189739771967, -0...  \n",
              "5  [-0.2045042071923879, 0.08948224389522294, -0....  "
            ],
            "text/html": [
              "\n",
              "  <div id=\"df-eb73e4be-d039-4ce7-9373-2ad263969629\">\n",
              "    <div class=\"colab-df-container\">\n",
              "      <div>\n",
              "<style scoped>\n",
              "    .dataframe tbody tr th:only-of-type {\n",
              "        vertical-align: middle;\n",
              "    }\n",
              "\n",
              "    .dataframe tbody tr th {\n",
              "        vertical-align: top;\n",
              "    }\n",
              "\n",
              "    .dataframe thead th {\n",
              "        text-align: right;\n",
              "    }\n",
              "</style>\n",
              "<table border=\"1\" class=\"dataframe\">\n",
              "  <thead>\n",
              "    <tr style=\"text-align: right;\">\n",
              "      <th></th>\n",
              "      <th>vijest</th>\n",
              "      <th>kategorija</th>\n",
              "      <th>word2vec_avg</th>\n",
              "      <th>word2vec_weight_avg</th>\n",
              "      <th>fasttext_avg</th>\n",
              "      <th>fasttext_weight_avg</th>\n",
              "    </tr>\n",
              "  </thead>\n",
              "  <tbody>\n",
              "    <tr>\n",
              "      <th>1</th>\n",
              "      <td>dva olovn sarkofag otkriven su u katedralo no...</td>\n",
              "      <td>2</td>\n",
              "      <td>[-0.34594575, 0.2839031, 0.17603719, 0.3962955...</td>\n",
              "      <td>[-0.3476191422114858, 0.24894839840098504, 0.1...</td>\n",
              "      <td>[-0.19047846, 0.049747154, -0.1451849, -0.1318...</td>\n",
              "      <td>[-0.17449348821733768, 0.06817948322460644, -0...</td>\n",
              "    </tr>\n",
              "    <tr>\n",
              "      <th>2</th>\n",
              "      <td>američk svemirsk agencij nas saopćilo je da j...</td>\n",
              "      <td>4</td>\n",
              "      <td>[-0.38080397, 0.22650556, 0.15119454, 0.408468...</td>\n",
              "      <td>[-0.36843028626715124, 0.175907754461902, 0.13...</td>\n",
              "      <td>[-0.24016836, 0.056401964, -0.09147829, -0.161...</td>\n",
              "      <td>[-0.28371308767236775, 0.0554799237778331, -0....</td>\n",
              "    </tr>\n",
              "    <tr>\n",
              "      <th>3</th>\n",
              "      <td>evropsk komisij je predložilo reform carinsk ...</td>\n",
              "      <td>3</td>\n",
              "      <td>[-0.32226032, 0.21427296, 0.14981331, 0.364215...</td>\n",
              "      <td>[-0.3436872317729629, 0.2293367771395281, 0.10...</td>\n",
              "      <td>[-0.23297836, 0.012733971, -0.15380538, -0.161...</td>\n",
              "      <td>[-0.20176888890814224, -0.0023879029905607293,...</td>\n",
              "    </tr>\n",
              "    <tr>\n",
              "      <th>4</th>\n",
              "      <td>administracij američk predsjednik joseph bide...</td>\n",
              "      <td>4</td>\n",
              "      <td>[-0.42571414, 0.16877402, 0.1836608, 0.3385192...</td>\n",
              "      <td>[-0.4412821094911702, 0.16989303872241127, 0.1...</td>\n",
              "      <td>[-0.30245286, 0.006994489, -0.09531504, -0.193...</td>\n",
              "      <td>[-0.2945003990632174, 0.030109189739771967, -0...</td>\n",
              "    </tr>\n",
              "    <tr>\n",
              "      <th>5</th>\n",
              "      <td>generaln direktoric kliničk centr univerzitet...</td>\n",
              "      <td>1</td>\n",
              "      <td>[-0.3985443, 0.35517603, 0.28379977, 0.3238662...</td>\n",
              "      <td>[-0.4764896186191194, 0.38053628077828555, 0.3...</td>\n",
              "      <td>[-0.19063023, 0.112900995, -0.1254667, -0.1578...</td>\n",
              "      <td>[-0.2045042071923879, 0.08948224389522294, -0....</td>\n",
              "    </tr>\n",
              "  </tbody>\n",
              "</table>\n",
              "</div>\n",
              "      <button class=\"colab-df-convert\" onclick=\"convertToInteractive('df-eb73e4be-d039-4ce7-9373-2ad263969629')\"\n",
              "              title=\"Convert this dataframe to an interactive table.\"\n",
              "              style=\"display:none;\">\n",
              "        \n",
              "  <svg xmlns=\"http://www.w3.org/2000/svg\" height=\"24px\"viewBox=\"0 0 24 24\"\n",
              "       width=\"24px\">\n",
              "    <path d=\"M0 0h24v24H0V0z\" fill=\"none\"/>\n",
              "    <path d=\"M18.56 5.44l.94 2.06.94-2.06 2.06-.94-2.06-.94-.94-2.06-.94 2.06-2.06.94zm-11 1L8.5 8.5l.94-2.06 2.06-.94-2.06-.94L8.5 2.5l-.94 2.06-2.06.94zm10 10l.94 2.06.94-2.06 2.06-.94-2.06-.94-.94-2.06-.94 2.06-2.06.94z\"/><path d=\"M17.41 7.96l-1.37-1.37c-.4-.4-.92-.59-1.43-.59-.52 0-1.04.2-1.43.59L10.3 9.45l-7.72 7.72c-.78.78-.78 2.05 0 2.83L4 21.41c.39.39.9.59 1.41.59.51 0 1.02-.2 1.41-.59l7.78-7.78 2.81-2.81c.8-.78.8-2.07 0-2.86zM5.41 20L4 18.59l7.72-7.72 1.47 1.35L5.41 20z\"/>\n",
              "  </svg>\n",
              "      </button>\n",
              "      \n",
              "  <style>\n",
              "    .colab-df-container {\n",
              "      display:flex;\n",
              "      flex-wrap:wrap;\n",
              "      gap: 12px;\n",
              "    }\n",
              "\n",
              "    .colab-df-convert {\n",
              "      background-color: #E8F0FE;\n",
              "      border: none;\n",
              "      border-radius: 50%;\n",
              "      cursor: pointer;\n",
              "      display: none;\n",
              "      fill: #1967D2;\n",
              "      height: 32px;\n",
              "      padding: 0 0 0 0;\n",
              "      width: 32px;\n",
              "    }\n",
              "\n",
              "    .colab-df-convert:hover {\n",
              "      background-color: #E2EBFA;\n",
              "      box-shadow: 0px 1px 2px rgba(60, 64, 67, 0.3), 0px 1px 3px 1px rgba(60, 64, 67, 0.15);\n",
              "      fill: #174EA6;\n",
              "    }\n",
              "\n",
              "    [theme=dark] .colab-df-convert {\n",
              "      background-color: #3B4455;\n",
              "      fill: #D2E3FC;\n",
              "    }\n",
              "\n",
              "    [theme=dark] .colab-df-convert:hover {\n",
              "      background-color: #434B5C;\n",
              "      box-shadow: 0px 1px 3px 1px rgba(0, 0, 0, 0.15);\n",
              "      filter: drop-shadow(0px 1px 2px rgba(0, 0, 0, 0.3));\n",
              "      fill: #FFFFFF;\n",
              "    }\n",
              "  </style>\n",
              "\n",
              "      <script>\n",
              "        const buttonEl =\n",
              "          document.querySelector('#df-eb73e4be-d039-4ce7-9373-2ad263969629 button.colab-df-convert');\n",
              "        buttonEl.style.display =\n",
              "          google.colab.kernel.accessAllowed ? 'block' : 'none';\n",
              "\n",
              "        async function convertToInteractive(key) {\n",
              "          const element = document.querySelector('#df-eb73e4be-d039-4ce7-9373-2ad263969629');\n",
              "          const dataTable =\n",
              "            await google.colab.kernel.invokeFunction('convertToInteractive',\n",
              "                                                     [key], {});\n",
              "          if (!dataTable) return;\n",
              "\n",
              "          const docLinkHtml = 'Like what you see? Visit the ' +\n",
              "            '<a target=\"_blank\" href=https://colab.research.google.com/notebooks/data_table.ipynb>data table notebook</a>'\n",
              "            + ' to learn more about interactive tables.';\n",
              "          element.innerHTML = '';\n",
              "          dataTable['output_type'] = 'display_data';\n",
              "          await google.colab.output.renderOutput(dataTable, element);\n",
              "          const docLink = document.createElement('div');\n",
              "          docLink.innerHTML = docLinkHtml;\n",
              "          element.appendChild(docLink);\n",
              "        }\n",
              "      </script>\n",
              "    </div>\n",
              "  </div>\n",
              "  "
            ]
          },
          "metadata": {},
          "execution_count": 36
        }
      ]
    },
    {
      "cell_type": "markdown",
      "source": [
        "#Klasifikacija - Train test podjela, fit, predict, report"
      ],
      "metadata": {
        "id": "JyNHmcYNRDiZ"
      }
    },
    {
      "cell_type": "code",
      "source": [
        "def classification(podaci_u_embedding_obliku, labele):\n",
        "  #y=df['kategorija']\n",
        "  X_train,X_test,y_train,y_test=train_test_split(podaci_u_embedding_obliku,labele,test_size=0.2,random_state = 0)\n",
        "  X_train.shape,X_test.shape\n",
        "\n",
        "  #SVM\n",
        "  clf=LinearSVC()\n",
        "  clf.fit(X_train,y_train)\n",
        "\n",
        "  y_pred=clf.predict(X_test)\n",
        "  confusion_matrix(y_test,y_pred)\n",
        "\n",
        "  print(classification_report(y_test,y_pred))\n",
        "\n",
        "  return y_pred, y_test\n"
      ],
      "metadata": {
        "id": "10tlDS-qNaA_"
      },
      "execution_count": null,
      "outputs": []
    },
    {
      "cell_type": "code",
      "source": [
        "classification(X_w2v_avg, df['kategorija'])"
      ],
      "metadata": {
        "colab": {
          "base_uri": "https://localhost:8080/"
        },
        "id": "n_anWY8uP8su",
        "outputId": "43244b45-9449-4a8d-84cf-d989bbaf4634"
      },
      "execution_count": null,
      "outputs": [
        {
          "output_type": "stream",
          "name": "stdout",
          "text": [
            "              precision    recall  f1-score   support\n",
            "\n",
            "           1       0.77      0.74      0.76        23\n",
            "           2       0.94      1.00      0.97        17\n",
            "           3       0.80      0.83      0.82        24\n",
            "           4       0.67      0.80      0.73        20\n",
            "           5       0.64      0.44      0.52        16\n",
            "\n",
            "    accuracy                           0.77       100\n",
            "   macro avg       0.76      0.76      0.76       100\n",
            "weighted avg       0.77      0.77      0.76       100\n",
            "\n"
          ]
        },
        {
          "output_type": "execute_result",
          "data": {
            "text/plain": [
              "(array(['2', '3', '5', '4', '5', '3', '5', '2', '1', '2', '1', '4', '5',\n",
              "        '2', '4', '1', '1', '4', '1', '4', '3', '4', '3', '2', '3', '3',\n",
              "        '2', '4', '2', '4', '1', '5', '1', '4', '3', '4', '3', '4', '1',\n",
              "        '2', '3', '2', '1', '4', '1', '4', '3', '3', '2', '5', '3', '3',\n",
              "        '1', '3', '5', '5', '1', '3', '1', '1', '2', '1', '3', '1', '4',\n",
              "        '3', '3', '2', '4', '1', '4', '3', '3', '2', '1', '1', '5', '2',\n",
              "        '3', '5', '2', '5', '2', '3', '1', '4', '4', '1', '2', '4', '1',\n",
              "        '2', '3', '4', '4', '4', '3', '3', '4', '4'], dtype=object),\n",
              " 91     2\n",
              " 255    4\n",
              " 284    5\n",
              " 446    3\n",
              " 462    5\n",
              "       ..\n",
              " 373    1\n",
              " 57     3\n",
              " 441    3\n",
              " 61     4\n",
              " 209    4\n",
              " Name: kategorija, Length: 100, dtype: object)"
            ]
          },
          "metadata": {},
          "execution_count": 37
        }
      ]
    },
    {
      "cell_type": "code",
      "source": [
        "classification(X_w2v_weight_avg, df['kategorija'])"
      ],
      "metadata": {
        "colab": {
          "base_uri": "https://localhost:8080/"
        },
        "id": "SMR378BzQu4s",
        "outputId": "62739521-b617-4288-9370-c8c674650736"
      },
      "execution_count": null,
      "outputs": [
        {
          "output_type": "stream",
          "name": "stdout",
          "text": [
            "              precision    recall  f1-score   support\n",
            "\n",
            "           1       0.79      0.65      0.71        23\n",
            "           2       0.77      1.00      0.87        17\n",
            "           3       0.76      0.67      0.71        24\n",
            "           4       0.48      0.55      0.51        20\n",
            "           5       0.47      0.44      0.45        16\n",
            "\n",
            "    accuracy                           0.66       100\n",
            "   macro avg       0.65      0.66      0.65       100\n",
            "weighted avg       0.67      0.66      0.66       100\n",
            "\n"
          ]
        },
        {
          "output_type": "execute_result",
          "data": {
            "text/plain": [
              "(array(['2', '3', '5', '4', '4', '4', '5', '2', '1', '2', '1', '4', '5',\n",
              "        '2', '2', '1', '2', '4', '1', '4', '3', '4', '3', '2', '3', '3',\n",
              "        '2', '4', '2', '5', '1', '5', '1', '4', '3', '4', '3', '4', '5',\n",
              "        '2', '3', '2', '1', '4', '1', '4', '3', '3', '2', '5', '3', '3',\n",
              "        '1', '3', '5', '5', '4', '3', '1', '1', '2', '5', '3', '1', '4',\n",
              "        '3', '3', '2', '4', '1', '4', '3', '3', '2', '1', '1', '5', '2',\n",
              "        '4', '5', '2', '5', '2', '5', '1', '2', '5', '1', '2', '4', '1',\n",
              "        '2', '3', '4', '4', '4', '4', '3', '2', '1'], dtype=object),\n",
              " 91     2\n",
              " 255    4\n",
              " 284    5\n",
              " 446    3\n",
              " 462    5\n",
              "       ..\n",
              " 373    1\n",
              " 57     3\n",
              " 441    3\n",
              " 61     4\n",
              " 209    4\n",
              " Name: kategorija, Length: 100, dtype: object)"
            ]
          },
          "metadata": {},
          "execution_count": 38
        }
      ]
    },
    {
      "cell_type": "code",
      "source": [
        "classification(X_count, df['kategorija'])"
      ],
      "metadata": {
        "colab": {
          "base_uri": "https://localhost:8080/"
        },
        "id": "3Qkg4HZuUSHb",
        "outputId": "cabec1f0-07b3-43a9-d05c-45566295fb35"
      },
      "execution_count": null,
      "outputs": [
        {
          "output_type": "stream",
          "name": "stdout",
          "text": [
            "              precision    recall  f1-score   support\n",
            "\n",
            "           1       0.61      0.87      0.71        23\n",
            "           2       1.00      0.88      0.94        17\n",
            "           3       0.94      0.71      0.81        24\n",
            "           4       0.89      0.80      0.84        20\n",
            "           5       0.69      0.69      0.69        16\n",
            "\n",
            "    accuracy                           0.79       100\n",
            "   macro avg       0.83      0.79      0.80       100\n",
            "weighted avg       0.82      0.79      0.80       100\n",
            "\n"
          ]
        },
        {
          "output_type": "execute_result",
          "data": {
            "text/plain": [
              "(array(['2', '5', '5', '4', '5', '3', '5', '2', '5', '2', '1', '4', '5',\n",
              "        '2', '4', '1', '1', '4', '1', '3', '1', '1', '3', '2', '3', '3',\n",
              "        '2', '4', '2', '4', '5', '5', '1', '4', '3', '5', '3', '5', '1',\n",
              "        '2', '3', '2', '1', '1', '1', '4', '3', '3', '2', '4', '3', '1',\n",
              "        '1', '3', '5', '1', '4', '1', '1', '1', '2', '1', '1', '1', '1',\n",
              "        '3', '3', '2', '4', '1', '4', '3', '1', '1', '1', '1', '5', '4',\n",
              "        '1', '5', '2', '1', '1', '3', '1', '4', '4', '1', '2', '5', '1',\n",
              "        '2', '5', '4', '4', '5', '3', '3', '4', '1'], dtype=object),\n",
              " 91     2\n",
              " 255    4\n",
              " 284    5\n",
              " 446    3\n",
              " 462    5\n",
              "       ..\n",
              " 373    1\n",
              " 57     3\n",
              " 441    3\n",
              " 61     4\n",
              " 209    4\n",
              " Name: kategorija, Length: 100, dtype: object)"
            ]
          },
          "metadata": {},
          "execution_count": 18
        }
      ]
    },
    {
      "cell_type": "code",
      "source": [
        "classification(X_ft_avg, df['kategorija'])"
      ],
      "metadata": {
        "colab": {
          "base_uri": "https://localhost:8080/"
        },
        "id": "xehWn2GsdCEi",
        "outputId": "48d1643e-7682-4c67-d81d-0030541ab646"
      },
      "execution_count": null,
      "outputs": [
        {
          "output_type": "stream",
          "name": "stdout",
          "text": [
            "              precision    recall  f1-score   support\n",
            "\n",
            "           1       0.95      0.78      0.86        23\n",
            "           2       1.00      0.94      0.97        17\n",
            "           3       0.87      0.83      0.85        24\n",
            "           4       0.76      0.95      0.84        20\n",
            "           5       0.88      0.94      0.91        16\n",
            "\n",
            "    accuracy                           0.88       100\n",
            "   macro avg       0.89      0.89      0.89       100\n",
            "weighted avg       0.89      0.88      0.88       100\n",
            "\n"
          ]
        },
        {
          "output_type": "execute_result",
          "data": {
            "text/plain": [
              "(array(['2', '3', '5', '4', '5', '3', '5', '5', '5', '2', '1', '4', '5',\n",
              "        '2', '4', '1', '1', '4', '1', '4', '3', '4', '3', '2', '3', '3',\n",
              "        '2', '4', '2', '4', '1', '5', '1', '4', '3', '3', '3', '5', '1',\n",
              "        '2', '3', '2', '1', '4', '1', '4', '3', '3', '2', '4', '3', '3',\n",
              "        '1', '3', '5', '5', '4', '3', '1', '1', '2', '5', '5', '5', '4',\n",
              "        '3', '4', '2', '4', '1', '4', '3', '3', '2', '1', '1', '4', '5',\n",
              "        '3', '5', '2', '1', '2', '3', '1', '4', '4', '1', '2', '5', '1',\n",
              "        '2', '5', '4', '4', '4', '3', '3', '4', '4'], dtype=object),\n",
              " 91     2\n",
              " 255    4\n",
              " 284    5\n",
              " 446    3\n",
              " 462    5\n",
              "       ..\n",
              " 373    1\n",
              " 57     3\n",
              " 441    3\n",
              " 61     4\n",
              " 209    4\n",
              " Name: kategorija, Length: 100, dtype: object)"
            ]
          },
          "metadata": {},
          "execution_count": 40
        }
      ]
    },
    {
      "cell_type": "code",
      "source": [
        "classification(X_ft_weighted_avg, df['kategorija'])"
      ],
      "metadata": {
        "colab": {
          "base_uri": "https://localhost:8080/"
        },
        "id": "VS0Rp9lLelx2",
        "outputId": "a50b47ea-d2ed-4981-df19-da368e74cc0d"
      },
      "execution_count": null,
      "outputs": [
        {
          "output_type": "stream",
          "name": "stdout",
          "text": [
            "              precision    recall  f1-score   support\n",
            "\n",
            "           1       0.81      0.74      0.77        23\n",
            "           2       1.00      0.94      0.97        17\n",
            "           3       0.86      0.79      0.83        24\n",
            "           4       0.73      0.95      0.83        20\n",
            "           5       0.87      0.81      0.84        16\n",
            "\n",
            "    accuracy                           0.84       100\n",
            "   macro avg       0.85      0.85      0.85       100\n",
            "weighted avg       0.85      0.84      0.84       100\n",
            "\n"
          ]
        },
        {
          "output_type": "execute_result",
          "data": {
            "text/plain": [
              "(array(['2', '3', '5', '4', '5', '3', '5', '5', '5', '2', '4', '4', '5',\n",
              "        '2', '4', '1', '1', '4', '1', '4', '3', '4', '3', '2', '3', '3',\n",
              "        '2', '4', '2', '4', '5', '5', '1', '4', '1', '3', '3', '5', '1',\n",
              "        '2', '3', '2', '1', '4', '1', '4', '3', '3', '2', '4', '3', '3',\n",
              "        '1', '3', '5', '1', '4', '3', '1', '1', '2', '5', '5', '1', '4',\n",
              "        '3', '4', '2', '4', '1', '4', '3', '3', '2', '1', '1', '4', '5',\n",
              "        '3', '5', '2', '1', '2', '3', '1', '4', '4', '1', '2', '5', '1',\n",
              "        '2', '1', '4', '4', '4', '3', '3', '4', '4'], dtype=object),\n",
              " 91     2\n",
              " 255    4\n",
              " 284    5\n",
              " 446    3\n",
              " 462    5\n",
              "       ..\n",
              " 373    1\n",
              " 57     3\n",
              " 441    3\n",
              " 61     4\n",
              " 209    4\n",
              " Name: kategorija, Length: 100, dtype: object)"
            ]
          },
          "metadata": {},
          "execution_count": 41
        }
      ]
    },
    {
      "cell_type": "markdown",
      "source": [
        "# Klastering - treniranje, report"
      ],
      "metadata": {
        "id": "dTDRU76Pqote"
      }
    },
    {
      "cell_type": "code",
      "source": [
        "def clustering(podaci_u_embedding_obliku, labele):\n",
        "\n",
        "  labele = labele.astype(int)\n",
        "  kmeans_model = KMeans(n_clusters = 5)\n",
        "  kmeans_model.fit(podaci_u_embedding_obliku)\n",
        "\n",
        "  clusters = kmeans_model.labels_\n",
        "  clusters = [x+1 for x in clusters]\n",
        "\n",
        "  confusion_matrix(labele,clusters)\n",
        "\n",
        "  print(classification_report(labele,clusters))\n",
        "\n",
        "  return "
      ],
      "metadata": {
        "id": "L1E-laj0cCcG"
      },
      "execution_count": null,
      "outputs": []
    },
    {
      "cell_type": "code",
      "source": [
        "clustering(X_count, df['kategorija'])"
      ],
      "metadata": {
        "colab": {
          "base_uri": "https://localhost:8080/"
        },
        "id": "ZY-tQZmrdl9O",
        "outputId": "2fde6001-8695-40e5-b837-250fc97211ab"
      },
      "execution_count": null,
      "outputs": [
        {
          "output_type": "stream",
          "name": "stderr",
          "text": [
            "/usr/local/lib/python3.10/dist-packages/sklearn/cluster/_kmeans.py:870: FutureWarning: The default value of `n_init` will change from 10 to 'auto' in 1.4. Set the value of `n_init` explicitly to suppress the warning\n",
            "  warnings.warn(\n"
          ]
        },
        {
          "output_type": "stream",
          "name": "stdout",
          "text": [
            "              precision    recall  f1-score   support\n",
            "\n",
            "           1       0.26      0.66      0.37       110\n",
            "           2       0.27      0.09      0.13        90\n",
            "           3       0.00      0.00      0.00       110\n",
            "           4       0.18      0.29      0.22       100\n",
            "           5       0.00      0.00      0.00        90\n",
            "\n",
            "    accuracy                           0.22       500\n",
            "   macro avg       0.14      0.21      0.15       500\n",
            "weighted avg       0.14      0.22      0.15       500\n",
            "\n"
          ]
        }
      ]
    },
    {
      "cell_type": "code",
      "source": [
        "clustering(X_w2v_avg, df['kategorija'])"
      ],
      "metadata": {
        "colab": {
          "base_uri": "https://localhost:8080/"
        },
        "id": "lOxN8JOKeZFQ",
        "outputId": "b17aa5c1-f05d-47fd-b48e-f8096cee7f98"
      },
      "execution_count": null,
      "outputs": [
        {
          "output_type": "stream",
          "name": "stderr",
          "text": [
            "/usr/local/lib/python3.10/dist-packages/sklearn/cluster/_kmeans.py:870: FutureWarning: The default value of `n_init` will change from 10 to 'auto' in 1.4. Set the value of `n_init` explicitly to suppress the warning\n",
            "  warnings.warn(\n"
          ]
        },
        {
          "output_type": "stream",
          "name": "stdout",
          "text": [
            "              precision    recall  f1-score   support\n",
            "\n",
            "           1       0.43      0.61      0.50       110\n",
            "           2       0.97      0.39      0.56        90\n",
            "           3       0.80      0.48      0.60       110\n",
            "           4       0.27      0.26      0.27       100\n",
            "           5       0.18      0.29      0.22        90\n",
            "\n",
            "    accuracy                           0.41       500\n",
            "   macro avg       0.53      0.41      0.43       500\n",
            "weighted avg       0.53      0.41      0.44       500\n",
            "\n"
          ]
        }
      ]
    },
    {
      "cell_type": "code",
      "source": [
        "clustering(X_w2v_weight_avg, df['kategorija'])"
      ],
      "metadata": {
        "colab": {
          "base_uri": "https://localhost:8080/"
        },
        "id": "kZgWj5iLeY9u",
        "outputId": "eb464619-7c40-48cd-c4fd-51ee460a4e22"
      },
      "execution_count": null,
      "outputs": [
        {
          "output_type": "stream",
          "name": "stderr",
          "text": [
            "/usr/local/lib/python3.10/dist-packages/sklearn/cluster/_kmeans.py:870: FutureWarning: The default value of `n_init` will change from 10 to 'auto' in 1.4. Set the value of `n_init` explicitly to suppress the warning\n",
            "  warnings.warn(\n"
          ]
        },
        {
          "output_type": "stream",
          "name": "stdout",
          "text": [
            "              precision    recall  f1-score   support\n",
            "\n",
            "           1       0.46      0.58      0.51       110\n",
            "           2       0.11      0.18      0.14        90\n",
            "           3       0.77      0.51      0.61       110\n",
            "           4       0.40      0.51      0.45       100\n",
            "           5       0.00      0.00      0.00        90\n",
            "\n",
            "    accuracy                           0.37       500\n",
            "   macro avg       0.35      0.36      0.34       500\n",
            "weighted avg       0.37      0.37      0.36       500\n",
            "\n"
          ]
        }
      ]
    },
    {
      "cell_type": "code",
      "source": [
        "clustering(X_ft_avg, df['kategorija'])"
      ],
      "metadata": {
        "colab": {
          "base_uri": "https://localhost:8080/"
        },
        "id": "q2cQLkTheYzV",
        "outputId": "08e2b031-cb00-46a4-a050-9297f6f1b093"
      },
      "execution_count": null,
      "outputs": [
        {
          "output_type": "stream",
          "name": "stderr",
          "text": [
            "/usr/local/lib/python3.10/dist-packages/sklearn/cluster/_kmeans.py:870: FutureWarning: The default value of `n_init` will change from 10 to 'auto' in 1.4. Set the value of `n_init` explicitly to suppress the warning\n",
            "  warnings.warn(\n"
          ]
        },
        {
          "output_type": "stream",
          "name": "stdout",
          "text": [
            "              precision    recall  f1-score   support\n",
            "\n",
            "           1       0.03      0.02      0.02       110\n",
            "           2       0.00      0.00      0.00        90\n",
            "           3       0.22      0.31      0.26       110\n",
            "           4       0.76      0.51      0.61       100\n",
            "           5       0.37      0.53      0.43        90\n",
            "\n",
            "    accuracy                           0.27       500\n",
            "   macro avg       0.27      0.27      0.26       500\n",
            "weighted avg       0.27      0.27      0.26       500\n",
            "\n"
          ]
        }
      ]
    },
    {
      "cell_type": "code",
      "source": [
        "clustering(X_ft_weighted_avg, df['kategorija'])"
      ],
      "metadata": {
        "colab": {
          "base_uri": "https://localhost:8080/"
        },
        "id": "XdRsziDQeYjs",
        "outputId": "9fd27f0e-312f-48d6-9f94-68c35db1a811"
      },
      "execution_count": null,
      "outputs": [
        {
          "output_type": "stream",
          "name": "stderr",
          "text": [
            "/usr/local/lib/python3.10/dist-packages/sklearn/cluster/_kmeans.py:870: FutureWarning: The default value of `n_init` will change from 10 to 'auto' in 1.4. Set the value of `n_init` explicitly to suppress the warning\n",
            "  warnings.warn(\n"
          ]
        },
        {
          "output_type": "stream",
          "name": "stdout",
          "text": [
            "              precision    recall  f1-score   support\n",
            "\n",
            "           1       0.64      0.40      0.49       110\n",
            "           2       0.89      0.84      0.87        90\n",
            "           3       0.88      0.60      0.71       110\n",
            "           4       0.02      0.02      0.02       100\n",
            "           5       0.16      0.32      0.21        90\n",
            "\n",
            "    accuracy                           0.43       500\n",
            "   macro avg       0.52      0.44      0.46       500\n",
            "weighted avg       0.53      0.43      0.46       500\n",
            "\n"
          ]
        }
      ]
    }
  ]
}